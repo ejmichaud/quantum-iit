{
 "cells": [
  {
   "cell_type": "code",
   "execution_count": 1,
   "id": "6adb5986",
   "metadata": {},
   "outputs": [],
   "source": [
    "from collections import defaultdict\n",
    "\n",
    "import numpy as np\n",
    "import matplotlib.pyplot as plt\n",
    "\n",
    "from tqdm.auto import tqdm\n",
    "\n",
    "import qutip as qt\n",
    "from qutip_qip.circuit import QubitCircuit\n",
    "from qutip_qip.operations import Gate\n",
    "\n",
    "from qiit.tqiit import *\n",
    "from qiit.custom import *"
   ]
  },
  {
   "cell_type": "code",
   "execution_count": 2,
   "id": "7444cf95",
   "metadata": {},
   "outputs": [],
   "source": [
    "zero_dm = qt.basis(2, 0) * qt.basis(2, 0).dag()\n",
    "one_dm = qt.basis(2, 1) * qt.basis(2, 1).dag()\n",
    "mixed_dm = qt.maximally_mixed_dm(2)\n",
    "\n",
    "plus = (qt.basis(2, 0) + qt.basis(2, 1)) / np.sqrt(2)\n",
    "minus = (qt.basis(2, 0) - qt.basis(2, 1)) / np.sqrt(2)\n",
    "plus_dm = plus * plus.dag()\n",
    "minus_dm = minus * minus.dag()\n",
    "\n",
    "epr = (qt.basis([2, 2], [0, 0]) + qt.basis([2, 2], [1, 1])) / np.sqrt(2)\n",
    "epr_dm = epr * epr.dag()"
   ]
  },
  {
   "cell_type": "markdown",
   "id": "49af7591",
   "metadata": {},
   "source": [
    "### identity"
   ]
  },
  {
   "cell_type": "code",
   "execution_count": 3,
   "id": "d18af24c",
   "metadata": {},
   "outputs": [],
   "source": [
    "U = qt.identity([2, 2])"
   ]
  },
  {
   "cell_type": "code",
   "execution_count": 5,
   "id": "a1a1c90f",
   "metadata": {},
   "outputs": [
    {
     "name": "stdout",
     "output_type": "stream",
     "text": [
      "1.922055902288952e-15\n",
      "1.9721522630525295e-31\n",
      "0.0\n",
      "3.650024149988857e-08\n",
      "0.0\n",
      "1.4113789311506809e-15\n",
      "0.0\n"
     ]
    }
   ],
   "source": [
    "X = tprod(zero_dm, one_dm)\n",
    "print(qIInkr(qt.to_super(U), X, [0, 1]))\n",
    "print(qIInsr(qt.to_super(U), X, [0, 1]))\n",
    "print(qIIntr(qt.to_super(U), X, [0, 1]))\n",
    "print(qIInbr(qt.to_super(U), X, [0, 1]))\n",
    "print(qII3(qt.to_super(U), X, [0, 1]))\n",
    "print(qIInsc(qt.to_super(U), [0, 1]))\n",
    "print(qIIntc(qt.to_super(U), [0, 1]))"
   ]
  },
  {
   "cell_type": "code",
   "execution_count": 6,
   "id": "de3b5419",
   "metadata": {},
   "outputs": [
    {
     "name": "stdout",
     "output_type": "stream",
     "text": [
      "8.008566259537291e-16\n",
      "-1.6302251256459329e-15\n",
      "0.0\n",
      "5.5755039852469285e-08\n",
      "0.0\n",
      "1.4113789311506809e-15\n",
      "0.0\n"
     ]
    }
   ],
   "source": [
    "X = epr_dm\n",
    "print(qIInkr(qt.to_super(U), X, [0, 1]))\n",
    "print(qIInsr(qt.to_super(U), X, [0, 1]))\n",
    "print(qIIntr(qt.to_super(U), X, [0, 1]))\n",
    "print(qIInbr(qt.to_super(U), X, [0, 1]))\n",
    "print(qII3(qt.to_super(U), X, [0, 1]))\n",
    "print(qIInsc(qt.to_super(U), [0, 1]))\n",
    "print(qIIntc(qt.to_super(U), [0, 1]))"
   ]
  },
  {
   "cell_type": "markdown",
   "id": "cf152f6f",
   "metadata": {},
   "source": [
    "### swap"
   ]
  },
  {
   "cell_type": "code",
   "execution_count": 7,
   "id": "8f3bfcbc",
   "metadata": {},
   "outputs": [],
   "source": [
    "qc = QubitCircuit(N=2, num_cbits=0)\n",
    "qc.add_gate('SWAP', targets=[0, 1])\n",
    "U = qc.compute_unitary()"
   ]
  },
  {
   "cell_type": "code",
   "execution_count": 8,
   "id": "17214a5d",
   "metadata": {},
   "outputs": [
    {
     "name": "stdout",
     "output_type": "stream",
     "text": [
      "1.9999999999999993\n",
      "0.5487949406953989\n",
      "0.7500000000000001\n",
      "0.9999999999999999\n",
      "0.5\n",
      "0.8285353655857572\n",
      "0.9375\n"
     ]
    }
   ],
   "source": [
    "X = tprod(zero_dm, one_dm)\n",
    "print(qIInkr(qt.to_super(U), X, [0, 1]))\n",
    "print(qIInsr(qt.to_super(U), X, [0, 1]))\n",
    "print(qIIntr(qt.to_super(U), X, [0, 1]))\n",
    "print(qIInbr(qt.to_super(U), X, [0, 1]))\n",
    "print(qII3(qt.to_super(U), X, [0, 1]))\n",
    "print(qIInsc(qt.to_super(U), [0, 1]))\n",
    "print(qIIntc(qt.to_super(U), [0, 1]))"
   ]
  },
  {
   "cell_type": "code",
   "execution_count": 9,
   "id": "6a9d2118",
   "metadata": {},
   "outputs": [
    {
     "name": "stdout",
     "output_type": "stream",
     "text": [
      "1.9999999999999962\n",
      "0.548794940695398\n",
      "0.7499999999999999\n",
      "1.0000000000000002\n",
      "0.3750000015662913\n",
      "0.8285353655857572\n",
      "0.9375\n"
     ]
    }
   ],
   "source": [
    "X = epr_dm\n",
    "print(qIInkr(qt.to_super(U), X, [0, 1]))\n",
    "print(qIInsr(qt.to_super(U), X, [0, 1]))\n",
    "print(qIIntr(qt.to_super(U), X, [0, 1]))\n",
    "print(qIInbr(qt.to_super(U), X, [0, 1]))\n",
    "print(qII3(qt.to_super(U), X, [0, 1]))\n",
    "print(qIInsc(qt.to_super(U), [0, 1]))\n",
    "print(qIIntc(qt.to_super(U), [0, 1]))"
   ]
  },
  {
   "cell_type": "code",
   "execution_count": 21,
   "id": "8c2204eb",
   "metadata": {},
   "outputs": [
    {
     "data": {
      "application/vnd.jupyter.widget-view+json": {
       "model_id": "120bdf05c6984d6087aaf329b835ff5f",
       "version_major": 2,
       "version_minor": 0
      },
      "text/plain": [
       "  0%|          | 0/500 [00:00<?, ?it/s]"
      ]
     },
     "metadata": {},
     "output_type": "display_data"
    }
   ],
   "source": [
    "nkrresults = []\n",
    "nsrresults = []\n",
    "ntrresults = []\n",
    "nbrresults = []\n",
    "n3results = []\n",
    "nscresults = []\n",
    "ntcresults = []\n",
    "\n",
    "X = tprod(zero_dm, one_dm)\n",
    "\n",
    "ts = np.linspace(0, 3.14, 500)\n",
    "for t in tqdm(ts):\n",
    "    Ut = (1.0j * t * U).expm()\n",
    "    Ut_super = qt.to_super(Ut)\n",
    "    nkrresults.append(qIInkr(Ut_super, X, [0, 1]))\n",
    "    nsrresults.append(qIInsr(Ut_super, X, [0, 1]))\n",
    "    ntrresults.append(qIIntr(Ut_super, X, [0, 1]))\n",
    "    nbrresults.append(qIInbr(Ut_super, X, [0, 1]))\n",
    "    n3results.append(qII3(Ut_super, X, [0, 1]))\n",
    "    nscresults.append(qIInsc(Ut_super, [0, 1]))\n",
    "    ntcresults.append(qIIntc(Ut_super, [0, 1]))"
   ]
  },
  {
   "cell_type": "code",
   "execution_count": 22,
   "id": "bf2a45eb",
   "metadata": {},
   "outputs": [],
   "source": [
    "plt.rcParams['text.usetex'] = True"
   ]
  },
  {
   "cell_type": "code",
   "execution_count": 28,
   "id": "ef64cb2b",
   "metadata": {},
   "outputs": [
    {
     "data": {
      "image/png": "[encoded data removed]",
      "text/plain": [
       "<Figure size 464.4x216 with 2 Axes>"
      ]
     },
     "metadata": {
      "needs_background": "light"
     },
     "output_type": "display_data"
    }
   ],
   "source": [
    "plt.figure(figsize=(6.45, 3.0))\n",
    "\n",
    "plt.subplot(1, 2, 1)\n",
    "\n",
    "plt.plot(ts, nkrresults, label=r\"$\\phi_q^{nkr}$\")\n",
    "plt.plot(ts, nsrresults, label=r\"$\\phi_q^{nsr}$\")\n",
    "plt.plot(ts, ntrresults, label=r\"$\\phi_q^{ntr}$\")\n",
    "plt.plot(ts, nbrresults, label=r\"$\\phi_q^{nbr}$\")\n",
    "plt.plot(ts, n3results, label=r\"$\\phi_q^{3.0}$\")\n",
    "\n",
    "plt.xlabel(r\"$t$\", fontsize=12)\n",
    "plt.ylabel(r\"$\\phi$\", fontsize=12)\n",
    "plt.title(r\"$\\mathcal{E}(\\rho) = e^{itS} \\rho e^{-itS}$\", fontsize=12)\n",
    "plt.xticks(fontsize=9)\n",
    "plt.yticks(fontsize=9)\n",
    "plt.legend(loc='upper right', prop={'size':12})\n",
    "\n",
    "plt.subplot(1, 2, 2)\n",
    "plt.plot(ts, nscresults, label=r\"$\\phi_q^{nsc}$\", color='cyan')\n",
    "plt.plot(ts, ntcresults, label=r\"$\\phi_q^{ntc}$\", color='lime')\n",
    "\n",
    "plt.xlabel(r\"$t$\", fontsize=12)\n",
    "plt.ylabel(r\"$\\phi$\", fontsize=12)\n",
    "plt.title(r\"$\\mathcal{E}(\\rho) = e^{itS} \\rho e^{-itS}$\", fontsize=12)\n",
    "plt.xticks(fontsize=9)\n",
    "plt.yticks(fontsize=9)\n",
    "plt.legend(prop={'size':12})\n",
    "\n",
    "plt.tight_layout()\n",
    "plt.savefig('figures/swaptimeseries2pane.pdf')"
   ]
  },
  {
   "cell_type": "code",
   "execution_count": null,
   "id": "f79c2aa0",
   "metadata": {},
   "outputs": [],
   "source": []
  },
  {
   "cell_type": "code",
   "execution_count": null,
   "id": "4f713588",
   "metadata": {},
   "outputs": [],
   "source": []
  },
  {
   "cell_type": "code",
   "execution_count": null,
   "id": "ee09dadb",
   "metadata": {},
   "outputs": [],
   "source": []
  },
  {
   "cell_type": "code",
   "execution_count": null,
   "id": "adb8bab3",
   "metadata": {},
   "outputs": [],
   "source": [
    "# plt.plot(ts, nkresults, label=r\"$\\phi_q^{nk}$\")\n",
    "plt.plot(ts, nsresults, label=r\"$\\phi_q^{ns}$\", color='orange')\n",
    "# plt.plot(ts, ntresults, label=r\"$\\phi_q^{nt}$\")\n",
    "# plt.plot(ts, nbresults, label=r\"$\\phi_q^{nb}$\")\n",
    "plt.plot(ts, n3results, label=r\"$\\phi_q^{3.0}$\", color='purple')\n",
    "\n",
    "plt.xlabel(r\"$t$\", fontsize=20)\n",
    "plt.ylabel(r\"$\\phi$\", fontsize=20)\n",
    "plt.title(r\"$\\mathcal{E}(\\rho) = e^{itS} \\rho e^{-itS}$\", fontsize=20)\n",
    "plt.xticks(fontsize=15)\n",
    "plt.yticks(fontsize=15)\n",
    "\n",
    "plt.legend(prop={'size':15})\n",
    "plt.tight_layout()\n",
    "plt.savefig('figures/swaptimeseries-ns-vs-n3.pdf')"
   ]
  },
  {
   "cell_type": "markdown",
   "id": "97bd3372",
   "metadata": {},
   "source": [
    "### bell"
   ]
  },
  {
   "cell_type": "code",
   "execution_count": 29,
   "id": "98eb9c3b",
   "metadata": {},
   "outputs": [],
   "source": [
    "qc = QubitCircuit(N=2, num_cbits=0)\n",
    "qc.add_gate('SNOT', targets=1)\n",
    "qc.add_gate('CNOT', controls=1, targets=0)\n",
    "U = qc.compute_unitary()"
   ]
  },
  {
   "cell_type": "code",
   "execution_count": 30,
   "id": "5cf90b11",
   "metadata": {},
   "outputs": [
    {
     "data": {
      "image/png": "[encoded data removed]",
      "text/plain": [
       "<IPython.core.display.Image object>"
      ]
     },
     "execution_count": 30,
     "metadata": {},
     "output_type": "execute_result"
    }
   ],
   "source": [
    "qc.png"
   ]
  },
  {
   "cell_type": "code",
   "execution_count": 31,
   "id": "93ecd95f",
   "metadata": {},
   "outputs": [
    {
     "data": {
      "text/latex": [
       "Quantum object: dims = [[2, 2], [2, 2]], shape = (4, 4), type = oper, isherm = False\\begin{equation*}\\left(\\begin{array}{*{11}c}0.707 & 0.707 & 0.0 & 0.0\\\\0.0 & 0.0 & 0.707 & -0.707\\\\0.0 & 0.0 & 0.707 & 0.707\\\\0.707 & -0.707 & 0.0 & 0.0\\\\\\end{array}\\right)\\end{equation*}"
      ],
      "text/plain": [
       "Quantum object: dims = [[2, 2], [2, 2]], shape = (4, 4), type = oper, isherm = False\n",
       "Qobj data =\n",
       "[[ 0.70710678  0.70710678  0.          0.        ]\n",
       " [ 0.          0.          0.70710678 -0.70710678]\n",
       " [ 0.          0.          0.70710678  0.70710678]\n",
       " [ 0.70710678 -0.70710678  0.          0.        ]]"
      ]
     },
     "execution_count": 31,
     "metadata": {},
     "output_type": "execute_result"
    }
   ],
   "source": [
    "U"
   ]
  },
  {
   "cell_type": "code",
   "execution_count": 32,
   "id": "fe85fc64",
   "metadata": {},
   "outputs": [
    {
     "name": "stdout",
     "output_type": "stream",
     "text": [
      "inf\n",
      "0.7238139441462017\n",
      "0.8090170031619788\n",
      "1.000000000000001\n",
      "0.7529060783505003\n",
      "0.816738735449724\n",
      "0.8903882174950656\n"
     ]
    }
   ],
   "source": [
    "X = tprod(zero_dm, one_dm)\n",
    "print(qIInkr(qt.to_super(U), X, [0, 1]))\n",
    "print(qIInsr(qt.to_super(U), X, [0, 1]))\n",
    "print(qIIntr(qt.to_super(U), X, [0, 1]))\n",
    "print(qIInbr(qt.to_super(U), X, [0, 1]))\n",
    "print(qII3(qt.to_super(U), X, [0, 1]))\n",
    "print(qIInsc(qt.to_super(U), [0, 1]))\n",
    "print(qIIntc(qt.to_super(U), [0, 1]))"
   ]
  },
  {
   "cell_type": "code",
   "execution_count": 33,
   "id": "88d57d95",
   "metadata": {},
   "outputs": [
    {
     "name": "stdout",
     "output_type": "stream",
     "text": [
      "2.000000000000003\n",
      "0.5487949406953982\n",
      "0.7499999999999998\n",
      "0.9999999988333471\n",
      "0.25000000083249896\n",
      "0.816738735449724\n",
      "0.8903882174950656\n"
     ]
    }
   ],
   "source": [
    "X = epr_dm\n",
    "print(qIInkr(qt.to_super(U), X, [0, 1]))\n",
    "print(qIInsr(qt.to_super(U), X, [0, 1]))\n",
    "print(qIIntr(qt.to_super(U), X, [0, 1]))\n",
    "print(qIInbr(qt.to_super(U), X, [0, 1]))\n",
    "print(qII3(qt.to_super(U), X, [0, 1]))\n",
    "print(qIInsc(qt.to_super(U), [0, 1]))\n",
    "print(qIIntc(qt.to_super(U), [0, 1]))"
   ]
  },
  {
   "cell_type": "markdown",
   "id": "0ad7e1dc",
   "metadata": {},
   "source": [
    "### Random unitaries"
   ]
  },
  {
   "cell_type": "code",
   "execution_count": 35,
   "id": "0d743cd7",
   "metadata": {},
   "outputs": [
    {
     "data": {
      "application/vnd.jupyter.widget-view+json": {
       "model_id": "71b601d0defa48238c8ee201c6473bab",
       "version_major": 2,
       "version_minor": 0
      },
      "text/plain": [
       "  0%|          | 0/4 [00:00<?, ?it/s]"
      ]
     },
     "metadata": {},
     "output_type": "display_data"
    },
    {
     "data": {
      "application/vnd.jupyter.widget-view+json": {
       "model_id": "",
       "version_major": 2,
       "version_minor": 0
      },
      "text/plain": [
       "  0%|          | 0/10 [00:00<?, ?it/s]"
      ]
     },
     "metadata": {},
     "output_type": "display_data"
    },
    {
     "data": {
      "application/vnd.jupyter.widget-view+json": {
       "model_id": "",
       "version_major": 2,
       "version_minor": 0
      },
      "text/plain": [
       "  0%|          | 0/10 [00:00<?, ?it/s]"
      ]
     },
     "metadata": {},
     "output_type": "display_data"
    },
    {
     "data": {
      "application/vnd.jupyter.widget-view+json": {
       "model_id": "",
       "version_major": 2,
       "version_minor": 0
      },
      "text/plain": [
       "  0%|          | 0/10 [00:00<?, ?it/s]"
      ]
     },
     "metadata": {},
     "output_type": "display_data"
    },
    {
     "data": {
      "application/vnd.jupyter.widget-view+json": {
       "model_id": "",
       "version_major": 2,
       "version_minor": 0
      },
      "text/plain": [
       "  0%|          | 0/10 [00:00<?, ?it/s]"
      ]
     },
     "metadata": {},
     "output_type": "display_data"
    }
   ],
   "source": [
    "nkrresults = defaultdict(list)\n",
    "\n",
    "ns = [2, 3, 4, 5]\n",
    "\n",
    "for n in tqdm(ns):\n",
    "    X = tprod(*[zero_dm for _ in range(n)])\n",
    "    for _ in tqdm(range(10), leave=False):\n",
    "        Ur = qt.rand_unitary(2**n, dims=[[2]*n, [2]*n])\n",
    "        nkrresults[n].append(qIInkr(qt.to_super(Ur), X, list(range(n))))\n",
    "    "
   ]
  },
  {
   "cell_type": "code",
   "execution_count": null,
   "id": "f5f1f6dc",
   "metadata": {},
   "outputs": [],
   "source": [
    "color = 'C0'\n",
    "for n in ns:\n",
    "    plt.scatter([n]*len(nkresults[2]), nkresults[n], color=color)\n",
    "\n",
    "plt.xticks(ns, fontsize=15)\n",
    "plt.yticks(fontsize=15)\n",
    "plt.ylim(0, None)\n",
    "plt.xlabel(\"Size of system (qubits)\", fontsize=15)\n",
    "plt.ylabel(r\"$\\phi$\", fontsize=20)\n",
    "plt.title(r\"$\\phi_q^{nk}$ for random unitaries\", fontsize=20)\n",
    "\n",
    "plt.tight_layout()\n",
    "plt.savefig('figures/nk-random-unitaries.pdf')"
   ]
  },
  {
   "cell_type": "code",
   "execution_count": 36,
   "id": "95094653",
   "metadata": {},
   "outputs": [
    {
     "data": {
      "application/vnd.jupyter.widget-view+json": {
       "model_id": "38215c8b84044d5faa6b25ac83702621",
       "version_major": 2,
       "version_minor": 0
      },
      "text/plain": [
       "  0%|          | 0/4 [00:00<?, ?it/s]"
      ]
     },
     "metadata": {},
     "output_type": "display_data"
    },
    {
     "data": {
      "application/vnd.jupyter.widget-view+json": {
       "model_id": "",
       "version_major": 2,
       "version_minor": 0
      },
      "text/plain": [
       "  0%|          | 0/10 [00:00<?, ?it/s]"
      ]
     },
     "metadata": {},
     "output_type": "display_data"
    },
    {
     "data": {
      "application/vnd.jupyter.widget-view+json": {
       "model_id": "",
       "version_major": 2,
       "version_minor": 0
      },
      "text/plain": [
       "  0%|          | 0/10 [00:00<?, ?it/s]"
      ]
     },
     "metadata": {},
     "output_type": "display_data"
    },
    {
     "data": {
      "application/vnd.jupyter.widget-view+json": {
       "model_id": "",
       "version_major": 2,
       "version_minor": 0
      },
      "text/plain": [
       "  0%|          | 0/10 [00:00<?, ?it/s]"
      ]
     },
     "metadata": {},
     "output_type": "display_data"
    },
    {
     "data": {
      "application/vnd.jupyter.widget-view+json": {
       "model_id": "",
       "version_major": 2,
       "version_minor": 0
      },
      "text/plain": [
       "  0%|          | 0/10 [00:00<?, ?it/s]"
      ]
     },
     "metadata": {},
     "output_type": "display_data"
    }
   ],
   "source": [
    "nsrresults = defaultdict(list)\n",
    "\n",
    "ns = [2, 3, 4, 5]\n",
    "\n",
    "for n in tqdm(ns):\n",
    "    X = tprod(*[zero_dm for _ in range(n)])\n",
    "    for _ in tqdm(range(10), leave=False):\n",
    "        Ur = qt.rand_unitary(2**n, dims=[[2]*n, [2]*n])\n",
    "        nsrresults[n].append(qIInsr(qt.to_super(Ur), X, list(range(n))))\n",
    "    "
   ]
  },
  {
   "cell_type": "code",
   "execution_count": null,
   "id": "074a0272",
   "metadata": {},
   "outputs": [],
   "source": [
    "color = 'orange'\n",
    "for n in ns:\n",
    "    plt.scatter([n]*len(nsresults[2]), nsresults[n], color=color)\n",
    "\n",
    "plt.xticks(ns, fontsize=15)\n",
    "plt.yticks(fontsize=15)\n",
    "plt.ylim(0, None)\n",
    "plt.xlabel(\"Size of system (qubits)\", fontsize=15)\n",
    "plt.ylabel(r\"$\\phi$\", fontsize=20)\n",
    "plt.title(r\"$\\phi_q^{ns}$ for random unitaries\", fontsize=20)\n",
    "\n",
    "plt.tight_layout()\n",
    "plt.savefig('figures/ns-random-unitaries.pdf')"
   ]
  },
  {
   "cell_type": "code",
   "execution_count": 37,
   "id": "bfbc6ff3",
   "metadata": {},
   "outputs": [
    {
     "data": {
      "application/vnd.jupyter.widget-view+json": {
       "model_id": "45fbd4cee3044e969451bfced1c042bd",
       "version_major": 2,
       "version_minor": 0
      },
      "text/plain": [
       "  0%|          | 0/4 [00:00<?, ?it/s]"
      ]
     },
     "metadata": {},
     "output_type": "display_data"
    },
    {
     "data": {
      "application/vnd.jupyter.widget-view+json": {
       "model_id": "",
       "version_major": 2,
       "version_minor": 0
      },
      "text/plain": [
       "  0%|          | 0/10 [00:00<?, ?it/s]"
      ]
     },
     "metadata": {},
     "output_type": "display_data"
    },
    {
     "data": {
      "application/vnd.jupyter.widget-view+json": {
       "model_id": "",
       "version_major": 2,
       "version_minor": 0
      },
      "text/plain": [
       "  0%|          | 0/10 [00:00<?, ?it/s]"
      ]
     },
     "metadata": {},
     "output_type": "display_data"
    },
    {
     "data": {
      "application/vnd.jupyter.widget-view+json": {
       "model_id": "",
       "version_major": 2,
       "version_minor": 0
      },
      "text/plain": [
       "  0%|          | 0/10 [00:00<?, ?it/s]"
      ]
     },
     "metadata": {},
     "output_type": "display_data"
    },
    {
     "data": {
      "application/vnd.jupyter.widget-view+json": {
       "model_id": "",
       "version_major": 2,
       "version_minor": 0
      },
      "text/plain": [
       "  0%|          | 0/10 [00:00<?, ?it/s]"
      ]
     },
     "metadata": {},
     "output_type": "display_data"
    }
   ],
   "source": [
    "ntrresults = defaultdict(list)\n",
    "\n",
    "ns = [2, 3, 4, 5]\n",
    "\n",
    "for n in tqdm(ns):\n",
    "    X = tprod(*[zero_dm for _ in range(n)])\n",
    "    for _ in tqdm(range(10), leave=False):\n",
    "        Ur = qt.rand_unitary(2**n, dims=[[2]*n, [2]*n])\n",
    "        ntrresults[n].append(qIIntr(qt.to_super(Ur), X, list(range(n))))\n",
    "    "
   ]
  },
  {
   "cell_type": "code",
   "execution_count": null,
   "id": "a23978dc",
   "metadata": {},
   "outputs": [],
   "source": [
    "color = 'green'\n",
    "for n in ns:\n",
    "    plt.scatter([n]*len(ntresults[2]), ntresults[n], color=color)\n",
    "\n",
    "plt.xticks(ns, fontsize=15)\n",
    "plt.yticks(fontsize=15)\n",
    "plt.ylim(0, None)\n",
    "plt.xlabel(\"Size of system (qubits)\", fontsize=15)\n",
    "plt.ylabel(r\"$\\phi$\", fontsize=20)\n",
    "plt.title(r\"$\\phi_q^{nt}$ for random unitaries\", fontsize=20)\n",
    "\n",
    "plt.tight_layout()\n",
    "plt.savefig('figures/nt-random-unitaries.pdf')"
   ]
  },
  {
   "cell_type": "code",
   "execution_count": 38,
   "id": "39b52663",
   "metadata": {},
   "outputs": [
    {
     "data": {
      "application/vnd.jupyter.widget-view+json": {
       "model_id": "1e355b9f395343278d01f2d5c63b6a55",
       "version_major": 2,
       "version_minor": 0
      },
      "text/plain": [
       "  0%|          | 0/4 [00:00<?, ?it/s]"
      ]
     },
     "metadata": {},
     "output_type": "display_data"
    },
    {
     "data": {
      "application/vnd.jupyter.widget-view+json": {
       "model_id": "",
       "version_major": 2,
       "version_minor": 0
      },
      "text/plain": [
       "  0%|          | 0/10 [00:00<?, ?it/s]"
      ]
     },
     "metadata": {},
     "output_type": "display_data"
    },
    {
     "data": {
      "application/vnd.jupyter.widget-view+json": {
       "model_id": "",
       "version_major": 2,
       "version_minor": 0
      },
      "text/plain": [
       "  0%|          | 0/10 [00:00<?, ?it/s]"
      ]
     },
     "metadata": {},
     "output_type": "display_data"
    },
    {
     "data": {
      "application/vnd.jupyter.widget-view+json": {
       "model_id": "",
       "version_major": 2,
       "version_minor": 0
      },
      "text/plain": [
       "  0%|          | 0/10 [00:00<?, ?it/s]"
      ]
     },
     "metadata": {},
     "output_type": "display_data"
    },
    {
     "data": {
      "application/vnd.jupyter.widget-view+json": {
       "model_id": "",
       "version_major": 2,
       "version_minor": 0
      },
      "text/plain": [
       "  0%|          | 0/10 [00:00<?, ?it/s]"
      ]
     },
     "metadata": {},
     "output_type": "display_data"
    }
   ],
   "source": [
    "nbrresults = defaultdict(list)\n",
    "\n",
    "ns = [2, 3, 4, 5]\n",
    "\n",
    "for n in tqdm(ns):\n",
    "    X = tprod(*[zero_dm for _ in range(n)])\n",
    "    for _ in tqdm(range(10), leave=False):\n",
    "        Ur = qt.rand_unitary(2**n, dims=[[2]*n, [2]*n])\n",
    "        nbrresults[n].append(qIInbr(qt.to_super(Ur), X, list(range(n))))\n",
    "    "
   ]
  },
  {
   "cell_type": "code",
   "execution_count": null,
   "id": "d510959e",
   "metadata": {},
   "outputs": [],
   "source": [
    "color = 'red'\n",
    "for n in ns:\n",
    "    plt.scatter([n]*len(ntresults[2]), ntresults[n], color=color)\n",
    "\n",
    "plt.xticks(ns, fontsize=15)\n",
    "plt.yticks(fontsize=15)\n",
    "plt.ylim(0, None)\n",
    "plt.xlabel(\"Size of system (qubits)\", fontsize=15)\n",
    "plt.ylabel(r\"$\\phi$\", fontsize=20)\n",
    "plt.title(r\"$\\phi_q^{nb}$ for random unitaries\", fontsize=20)\n",
    "\n",
    "plt.tight_layout()\n",
    "plt.savefig('figures/nb-random-unitaries.pdf')"
   ]
  },
  {
   "cell_type": "code",
   "execution_count": 40,
   "id": "36add791",
   "metadata": {},
   "outputs": [
    {
     "data": {
      "application/vnd.jupyter.widget-view+json": {
       "model_id": "b26f1bea77b244e3a56bc433f1c2606b",
       "version_major": 2,
       "version_minor": 0
      },
      "text/plain": [
       "  0%|          | 0/3 [00:00<?, ?it/s]"
      ]
     },
     "metadata": {},
     "output_type": "display_data"
    },
    {
     "data": {
      "application/vnd.jupyter.widget-view+json": {
       "model_id": "",
       "version_major": 2,
       "version_minor": 0
      },
      "text/plain": [
       "  0%|          | 0/10 [00:00<?, ?it/s]"
      ]
     },
     "metadata": {},
     "output_type": "display_data"
    },
    {
     "data": {
      "application/vnd.jupyter.widget-view+json": {
       "model_id": "",
       "version_major": 2,
       "version_minor": 0
      },
      "text/plain": [
       "  0%|          | 0/10 [00:00<?, ?it/s]"
      ]
     },
     "metadata": {},
     "output_type": "display_data"
    },
    {
     "data": {
      "application/vnd.jupyter.widget-view+json": {
       "model_id": "",
       "version_major": 2,
       "version_minor": 0
      },
      "text/plain": [
       "  0%|          | 0/10 [00:00<?, ?it/s]"
      ]
     },
     "metadata": {},
     "output_type": "display_data"
    }
   ],
   "source": [
    "nscresults = defaultdict(list)\n",
    "\n",
    "ns = [2, 3, 4]\n",
    "\n",
    "for n in tqdm(ns):\n",
    "    X = tprod(*[zero_dm for _ in range(n)])\n",
    "    for _ in tqdm(range(10), leave=False):\n",
    "        Ur = qt.rand_unitary(2**n, dims=[[2]*n, [2]*n])\n",
    "        nscresults[n].append(qIInsc(qt.to_super(Ur), list(range(n))))\n"
   ]
  },
  {
   "cell_type": "code",
   "execution_count": 41,
   "id": "41e0b951",
   "metadata": {},
   "outputs": [
    {
     "data": {
      "application/vnd.jupyter.widget-view+json": {
       "model_id": "4dc7c40baf6e46d6a57840ad41c1f7e0",
       "version_major": 2,
       "version_minor": 0
      },
      "text/plain": [
       "  0%|          | 0/3 [00:00<?, ?it/s]"
      ]
     },
     "metadata": {},
     "output_type": "display_data"
    },
    {
     "data": {
      "application/vnd.jupyter.widget-view+json": {
       "model_id": "",
       "version_major": 2,
       "version_minor": 0
      },
      "text/plain": [
       "  0%|          | 0/10 [00:00<?, ?it/s]"
      ]
     },
     "metadata": {},
     "output_type": "display_data"
    },
    {
     "data": {
      "application/vnd.jupyter.widget-view+json": {
       "model_id": "",
       "version_major": 2,
       "version_minor": 0
      },
      "text/plain": [
       "  0%|          | 0/10 [00:00<?, ?it/s]"
      ]
     },
     "metadata": {},
     "output_type": "display_data"
    },
    {
     "data": {
      "application/vnd.jupyter.widget-view+json": {
       "model_id": "",
       "version_major": 2,
       "version_minor": 0
      },
      "text/plain": [
       "  0%|          | 0/10 [00:00<?, ?it/s]"
      ]
     },
     "metadata": {},
     "output_type": "display_data"
    }
   ],
   "source": [
    "ntcresults = defaultdict(list)\n",
    "\n",
    "ns = [2, 3, 4]\n",
    "\n",
    "for n in tqdm(ns):\n",
    "    X = tprod(*[zero_dm for _ in range(n)])\n",
    "    for _ in tqdm(range(10), leave=False):\n",
    "        Ur = qt.rand_unitary(2**n, dims=[[2]*n, [2]*n])\n",
    "        ntcresults[n].append(qIIntc(qt.to_super(Ur), list(range(n))))\n"
   ]
  },
  {
   "cell_type": "code",
   "execution_count": null,
   "id": "32e84f5f",
   "metadata": {},
   "outputs": [],
   "source": []
  },
  {
   "cell_type": "code",
   "execution_count": null,
   "id": "2fe96340",
   "metadata": {},
   "outputs": [],
   "source": []
  },
  {
   "cell_type": "code",
   "execution_count": 49,
   "id": "548aaa1d",
   "metadata": {},
   "outputs": [
    {
     "data": {
      "image/png": "[encoded data removed]",
      "text/plain": [
       "<Figure size 464.4x216 with 2 Axes>"
      ]
     },
     "metadata": {
      "needs_background": "light"
     },
     "output_type": "display_data"
    }
   ],
   "source": [
    "plt.figure(figsize=(6.45, 3.0))\n",
    "\n",
    "plt.subplot(1, 2, 1)\n",
    "\n",
    "plt.scatter([2]*10, nkrresults[2], label=r\"$\\phi_q^{nkr}$\", color='C0')\n",
    "plt.scatter([2]*10, nsrresults[2], label=r\"$\\phi_q^{nsr}$\", color='C1')\n",
    "plt.scatter([2]*10, ntrresults[2], label=r\"$\\phi_q^{ntr}$\", color='C2')\n",
    "plt.scatter([2]*10, nbrresults[2], label=r\"$\\phi_q^{nbr}$\", color='C3')\n",
    "\n",
    "plt.scatter([3]*10, nkrresults[3], color='C0')\n",
    "plt.scatter([3]*10, nsrresults[3], color='C1')\n",
    "plt.scatter([3]*10, ntrresults[3], color='C2')\n",
    "plt.scatter([3]*10, nbrresults[3], color='C3')\n",
    "\n",
    "plt.scatter([4]*10, nkrresults[4], color='C0')\n",
    "plt.scatter([4]*10, nsrresults[4], color='C1')\n",
    "plt.scatter([4]*10, ntrresults[4], color='C2')\n",
    "plt.scatter([4]*10, nbrresults[4], color='C3')\n",
    "\n",
    "plt.scatter([5]*10, nkrresults[5], color='C0')\n",
    "plt.scatter([5]*10, nsrresults[5], color='C1')\n",
    "plt.scatter([5]*10, ntrresults[5], color='C2')\n",
    "plt.scatter([5]*10, nbrresults[5], color='C3')\n",
    "\n",
    "\n",
    "plt.xticks([2, 3, 4, 5], fontsize=9)\n",
    "plt.yticks(fontsize=9)\n",
    "plt.ylim(0, None)\n",
    "plt.xlabel(r\"Size of system (qubits)\", fontsize=12)\n",
    "plt.ylabel(r\"$\\phi$\", fontsize=12)\n",
    "plt.title(r\"$\\phi$ measures on random unitaries\", fontsize=12)\n",
    "# plt.xlabel(r\"$t$\", fontsize=20)\n",
    "# plt.ylabel(r\"$\\phi$\", fontsize=20)\n",
    "# plt.title(r\"$\\mathcal{E}(\\rho) = e^{itS} \\rho e^{-itS}$\", fontsize=20)\n",
    "# plt.xticks(fontsize=15)\n",
    "# plt.yticks(fontsize=15)\n",
    "\n",
    "plt.legend(loc='upper left', prop={'size':12})\n",
    "\n",
    "\n",
    "plt.subplot(1, 2, 2)\n",
    "\n",
    "plt.scatter([2]*10, nscresults[2], label=r\"$\\phi_q^{nsc}$\", color='cyan')\n",
    "plt.scatter([2]*10, ntcresults[2], label=r\"$\\phi_q^{ntc}$\", color='lime')\n",
    "\n",
    "plt.scatter([3]*10, nscresults[3], color='cyan')\n",
    "plt.scatter([3]*10, ntcresults[3], color='lime')\n",
    "\n",
    "plt.scatter([4]*10, nscresults[4], color='cyan')\n",
    "plt.scatter([4]*10, ntcresults[4], color='lime')\n",
    "\n",
    "plt.xticks([2, 3, 4], fontsize=9)\n",
    "plt.yticks(fontsize=9)\n",
    "plt.ylim(0, None)\n",
    "plt.xlabel(r\"Size of system (qubits)\", fontsize=12)\n",
    "plt.ylabel(r\"$\\phi$\", fontsize=12)\n",
    "plt.title(r\"$\\phi$ measures on random unitaries\", fontsize=12)\n",
    "plt.legend(prop={'size':12})\n",
    "\n",
    "plt.tight_layout()\n",
    "plt.savefig('figures/all-random-unitaries-2pane.pdf')"
   ]
  },
  {
   "cell_type": "code",
   "execution_count": null,
   "id": "d297b335",
   "metadata": {},
   "outputs": [],
   "source": []
  },
  {
   "cell_type": "code",
   "execution_count": null,
   "id": "afe556df",
   "metadata": {},
   "outputs": [],
   "source": []
  },
  {
   "cell_type": "code",
   "execution_count": null,
   "id": "5c2deff6",
   "metadata": {},
   "outputs": [],
   "source": [
    "n3results = defaultdict(list)\n",
    "\n",
    "ns = [2, 3, 4, 5]\n",
    "\n",
    "for n in tqdm(ns):\n",
    "    X = tprod(*[zero_dm for _ in range(n)])\n",
    "    for _ in tqdm(range(20), leave=False):\n",
    "        Ur = qt.rand_unitary(2**n, dims=[[2]*n, [2]*n])\n",
    "        n3results[n].append(qII3(qt.to_super(Ur), X, list(range(n))))\n",
    "    "
   ]
  },
  {
   "cell_type": "code",
   "execution_count": null,
   "id": "97858172",
   "metadata": {},
   "outputs": [],
   "source": [
    "color = 'purple'\n",
    "for n in ns:\n",
    "    plt.scatter([n]*len(n3[2]), n3[n], color=color)\n",
    "\n",
    "plt.xticks(ns, fontsize=15)\n",
    "plt.yticks(fontsize=15)\n",
    "plt.ylim(0, None)\n",
    "plt.xlabel(\"Size of system (qubits)\", fontsize=15)\n",
    "plt.ylabel(r\"$\\phi$\", fontsize=20)\n",
    "plt.title(r\"$\\phi_q^{3.0}$ for random unitaries\", fontsize=20)\n",
    "\n",
    "plt.savefig('figures/n3-random-unitaries.pdf')"
   ]
  },
  {
   "cell_type": "markdown",
   "id": "15f1d8a3",
   "metadata": {},
   "source": [
    "### qft"
   ]
  },
  {
   "cell_type": "code",
   "execution_count": 4,
   "id": "c7c2507e",
   "metadata": {},
   "outputs": [],
   "source": [
    "from qutip.qip.algorithms import qft"
   ]
  },
  {
   "cell_type": "code",
   "execution_count": null,
   "id": "b891ad27",
   "metadata": {},
   "outputs": [],
   "source": [
    "ns = [2, 3, 4, 5]\n",
    "\n",
    "nkresults = []\n",
    "nsresults = []\n",
    "ntresults = []\n",
    "nbresults = []\n",
    "for n in tqdm(ns):\n",
    "    X = tprod(*[zero_dm for _ in range(n)])\n",
    "    U = qft.qft(n)\n",
    "    nkresults.append(qIInk(qt.to_super(U), X, list(range(n))))\n",
    "    nsresults.append(qIIns(qt.to_super(U), X, list(range(n))))\n",
    "    ntresults.append(qIInt(qt.to_super(U), X, list(range(n))))\n",
    "    nbresults.append(qIInb(qt.to_super(U), X, list(range(n))))\n",
    "    \n"
   ]
  },
  {
   "cell_type": "code",
   "execution_count": null,
   "id": "e7d65c5c",
   "metadata": {},
   "outputs": [],
   "source": [
    "plt.plot(ns, nkresults, label=r\"$\\phi_q^{nk}$\", color='blue')\n",
    "plt.plot(ns, nsresults, label=r\"$\\phi_q^{ns}$\", color='orange')\n",
    "plt.plot(ns, ntresults, label=r\"$\\phi_q^{nt}$\", color='green')\n",
    "plt.plot(ns, nbresults, label=r\"$\\phi_q^{nb}$\", color='red')\n",
    "\n",
    "plt.xticks(ns, fontsize=15)\n",
    "plt.yticks(fontsize=15)\n",
    "plt.ylim(0, None)\n",
    "plt.xlabel(\"Size of system (qubits)\", fontsize=15)\n",
    "plt.ylabel(r\"$\\phi$\", fontsize=20)\n",
    "plt.title(r\"$\\phi$ measures on QFT\", fontsize=20)\n",
    "\n",
    "plt.legend(loc='upper left', prop={'size':15})\n",
    "plt.tight_layout()\n",
    "plt.savefig('figures/qft-scaling.pdf')"
   ]
  },
  {
   "cell_type": "code",
   "execution_count": null,
   "id": "17d62498",
   "metadata": {},
   "outputs": [],
   "source": [
    "ns = [2, 3, 4, 5]\n",
    "\n",
    "nkresults = []\n",
    "nsresults = []\n",
    "ntresults = []\n",
    "nbresults = []\n",
    "for n in tqdm(ns):\n",
    "    X = tprod(*[plus_dm for _ in range(n)])\n",
    "    U = qft.qft(n)\n",
    "    nkresults.append(qIInk(qt.to_super(U), X, list(range(n))))\n",
    "    nsresults.append(qIIns(qt.to_super(U), X, list(range(n))))\n",
    "    ntresults.append(qIInt(qt.to_super(U), X, list(range(n))))\n",
    "    nbresults.append(qIInb(qt.to_super(U), X, list(range(n))))\n",
    "    \n"
   ]
  },
  {
   "cell_type": "code",
   "execution_count": null,
   "id": "0214d148",
   "metadata": {},
   "outputs": [],
   "source": [
    "plt.plot(ns, nkresults, label=r\"$\\phi_q^{nk}$\", color='blue')\n",
    "plt.plot(ns, nsresults, label=r\"$\\phi_q^{ns}$\", color='orange')\n",
    "plt.plot(ns, ntresults, label=r\"$\\phi_q^{nt}$\", color='green')\n",
    "plt.plot(ns, nbresults, label=r\"$\\phi_q^{nb}$\", color='red')\n",
    "\n",
    "plt.xticks(ns, fontsize=15)\n",
    "plt.yticks(fontsize=15)\n",
    "plt.ylim(0, None)\n",
    "plt.xlabel(\"Size of system (qubits)\", fontsize=15)\n",
    "plt.ylabel(r\"$\\phi$\", fontsize=20)\n",
    "plt.title(r\"$\\phi$ measures on QFT\", fontsize=20)\n",
    "\n",
    "plt.legend(loc='upper left', prop={'size':15})\n",
    "plt.tight_layout()\n",
    "plt.savefig('figures/qft-scaling-pluses.pdf')"
   ]
  },
  {
   "cell_type": "code",
   "execution_count": 52,
   "id": "1de284a3",
   "metadata": {},
   "outputs": [
    {
     "data": {
      "application/vnd.jupyter.widget-view+json": {
       "model_id": "cb10bede22cd46a191ad2e085cc3e64a",
       "version_major": 2,
       "version_minor": 0
      },
      "text/plain": [
       "  0%|          | 0/3 [00:00<?, ?it/s]"
      ]
     },
     "metadata": {},
     "output_type": "display_data"
    },
    {
     "data": {
      "application/vnd.jupyter.widget-view+json": {
       "model_id": "",
       "version_major": 2,
       "version_minor": 0
      },
      "text/plain": [
       "  0%|          | 0/10 [00:00<?, ?it/s]"
      ]
     },
     "metadata": {},
     "output_type": "display_data"
    },
    {
     "data": {
      "application/vnd.jupyter.widget-view+json": {
       "model_id": "",
       "version_major": 2,
       "version_minor": 0
      },
      "text/plain": [
       "  0%|          | 0/10 [00:00<?, ?it/s]"
      ]
     },
     "metadata": {},
     "output_type": "display_data"
    },
    {
     "data": {
      "application/vnd.jupyter.widget-view+json": {
       "model_id": "",
       "version_major": 2,
       "version_minor": 0
      },
      "text/plain": [
       "  0%|          | 0/10 [00:00<?, ?it/s]"
      ]
     },
     "metadata": {},
     "output_type": "display_data"
    },
    {
     "data": {
      "application/vnd.jupyter.widget-view+json": {
       "model_id": "6743e30c30824851adc0e0425a1b936e",
       "version_major": 2,
       "version_minor": 0
      },
      "text/plain": [
       "  0%|          | 0/3 [00:00<?, ?it/s]"
      ]
     },
     "metadata": {},
     "output_type": "display_data"
    }
   ],
   "source": [
    "ns = [2, 3, 4]\n",
    "\n",
    "nkrresults = defaultdict(list)\n",
    "nsrresults = defaultdict(list)\n",
    "ntrresults = defaultdict(list)\n",
    "nbrresults = defaultdict(list)\n",
    "\n",
    "for n in tqdm(ns):\n",
    "    for _ in tqdm(range(10), leave=False):\n",
    "#     X = tprod(*[plus_dm for _ in range(n)])\n",
    "        X = qt.rand_dm(2**n, dims=[[2]*n, [2]*n])\n",
    "        U = qft.qft(n)\n",
    "        nkrresults[n].append(qIInkr(qt.to_super(U), X, list(range(n))))\n",
    "        nsrresults[n].append(qIInsr(qt.to_super(U), X, list(range(n))))\n",
    "        ntrresults[n].append(qIIntr(qt.to_super(U), X, list(range(n))))\n",
    "        nbrresults[n].append(qIInbr(qt.to_super(U), X, list(range(n))))\n",
    "\n",
    "ns = [2, 3, 4]\n",
    "\n",
    "nscresults = []\n",
    "ntcresults = []\n",
    "\n",
    "for n in tqdm(ns):\n",
    "    U = qft.qft(n)\n",
    "    nscresults.append(qIInsc(qt.to_super(U), list(range(n))))\n",
    "    ntcresults.append(qIIntc(qt.to_super(U), list(range(n))))\n"
   ]
  },
  {
   "cell_type": "code",
   "execution_count": 59,
   "id": "3a452740",
   "metadata": {},
   "outputs": [
    {
     "data": {
      "image/png": "[encoded data removed]",
      "text/plain": [
       "<Figure size 464.4x216 with 2 Axes>"
      ]
     },
     "metadata": {
      "needs_background": "light"
     },
     "output_type": "display_data"
    }
   ],
   "source": [
    "plt.figure(figsize=(6.45, 3.0))\n",
    "\n",
    "plt.subplot(1, 2, 1)\n",
    "\n",
    "plt.scatter([2]*10, nkrresults[2], label=r\"$\\phi_q^{nkr}$\", color='C0')\n",
    "plt.scatter([2]*10, nsrresults[2], label=r\"$\\phi_q^{nsr}$\", color='C1')\n",
    "plt.scatter([2]*10, ntrresults[2], label=r\"$\\phi_q^{ntr}$\", color='C2')\n",
    "plt.scatter([2]*10, nbrresults[2], label=r\"$\\phi_q^{nbr}$\", color='C3')\n",
    "\n",
    "plt.scatter([3]*10, nkrresults[3], color='C0')\n",
    "plt.scatter([3]*10, nsrresults[3], color='C1')\n",
    "plt.scatter([3]*10, ntrresults[3], color='C2')\n",
    "plt.scatter([3]*10, nbrresults[3], color='C3')\n",
    "\n",
    "plt.scatter([4]*10, nkrresults[4], color='C0')\n",
    "plt.scatter([4]*10, nsrresults[4], color='C1')\n",
    "plt.scatter([4]*10, ntrresults[4], color='C2')\n",
    "plt.scatter([4]*10, nbrresults[4], color='C3')\n",
    "\n",
    "\n",
    "plt.xticks(ns, fontsize=9)\n",
    "plt.yticks(fontsize=9)\n",
    "plt.ylim(0, None)\n",
    "plt.xlabel(r\"Size of system (qubits)\", fontsize=12)\n",
    "plt.ylabel(r\"$\\phi$\", fontsize=12)\n",
    "plt.title(r\"$\\phi$ measures on QFT (random input $\\rho^{(0)}$)\", fontsize=12)\n",
    "# plt.xlabel(r\"$t$\", fontsize=20)\n",
    "# plt.ylabel(r\"$\\phi$\", fontsize=20)\n",
    "# plt.title(r\"$\\mathcal{E}(\\rho) = e^{itS} \\rho e^{-itS}$\", fontsize=20)\n",
    "# plt.xticks(fontsize=15)\n",
    "# plt.yticks(fontsize=15)\n",
    "\n",
    "plt.legend(loc='upper left', prop={'size':12})\n",
    "\n",
    "\n",
    "plt.subplot(1, 2, 2)\n",
    "plt.plot(ns, nscresults, label=r\"$\\phi_q^{nsc}$\", color='cyan')\n",
    "plt.plot(ns, ntcresults, label=r\"$\\phi_q^{ntc}$\", color='lime')\n",
    "\n",
    "plt.xticks(ns, fontsize=9)\n",
    "plt.yticks(fontsize=9)\n",
    "plt.ylim(0, None)\n",
    "plt.xlabel(r\"Size of system (qubits)\", fontsize=12)\n",
    "plt.ylabel(r\"$\\phi$\", fontsize=12)\n",
    "plt.title(r\"$\\phi$ measures on QFT\", fontsize=12)\n",
    "plt.legend(loc='lower left', prop={'size':12})\n",
    "\n",
    "plt.tight_layout()\n",
    "plt.savefig('figures/qft-scaling-randomdms-2pane.pdf')"
   ]
  },
  {
   "cell_type": "code",
   "execution_count": 6,
   "id": "e0ce0395",
   "metadata": {},
   "outputs": [
    {
     "name": "stdout",
     "output_type": "stream",
     "text": [
      "(0.12308032702531646, ([2], [0, 1, 3, 4]))\n"
     ]
    }
   ],
   "source": [
    "n = 5\n",
    "X = qt.rand_dm(2**n, dims=[[2]*n, [2]*n])\n",
    "U = qft.qft(n)\n",
    "print(qIInsr(qt.to_super(U), X, list(range(n))))"
   ]
  },
  {
   "cell_type": "code",
   "execution_count": 7,
   "id": "c6340f67",
   "metadata": {},
   "outputs": [],
   "source": [
    "n = 5\n",
    "U = tprod(*[qt.sigmaz() for _ in range(n)])\n",
    "X = tprod(*[plus_dm for _ in range(n)])"
   ]
  },
  {
   "cell_type": "code",
   "execution_count": 12,
   "id": "80c68f38",
   "metadata": {},
   "outputs": [
    {
     "data": {
      "application/vnd.jupyter.widget-view+json": {
       "model_id": "34b91e9a773946dfa09d1a7b27b05b2b",
       "version_major": 2,
       "version_minor": 0
      },
      "text/plain": [
       "  0%|          | 0/20 [00:00<?, ?it/s]"
      ]
     },
     "metadata": {},
     "output_type": "display_data"
    }
   ],
   "source": [
    "ts = np.linspace(0, 3.1415 / 2, 20)\n",
    "results = []\n",
    "for t in tqdm(ts):\n",
    "    expU = (1.0j * t * U).expm()\n",
    "    results.append(qIInsr(qt.to_super(expU), X, list(range(n))))"
   ]
  },
  {
   "cell_type": "code",
   "execution_count": 13,
   "id": "44d232ef",
   "metadata": {},
   "outputs": [
    {
     "data": {
      "text/plain": [
       "[<matplotlib.lines.Line2D at 0x29bb94b50>]"
      ]
     },
     "execution_count": 13,
     "metadata": {},
     "output_type": "execute_result"
    },
    {
     "data": {
      "image/png": "[encoded data removed]",
      "text/plain": [
       "<Figure size 432x288 with 1 Axes>"
      ]
     },
     "metadata": {
      "needs_background": "light"
     },
     "output_type": "display_data"
    }
   ],
   "source": [
    "plt.plot(ts, results)"
   ]
  },
  {
   "cell_type": "code",
   "execution_count": null,
   "id": "9e7442a8",
   "metadata": {},
   "outputs": [],
   "source": []
  },
  {
   "cell_type": "code",
   "execution_count": null,
   "id": "c52f7bd1",
   "metadata": {},
   "outputs": [],
   "source": []
  },
  {
   "cell_type": "code",
   "execution_count": null,
   "id": "c95c490f",
   "metadata": {},
   "outputs": [],
   "source": []
  },
  {
   "cell_type": "code",
   "execution_count": null,
   "id": "799f7fd6",
   "metadata": {},
   "outputs": [],
   "source": []
  },
  {
   "cell_type": "code",
   "execution_count": null,
   "id": "6a7754b8",
   "metadata": {},
   "outputs": [],
   "source": []
  },
  {
   "cell_type": "code",
   "execution_count": null,
   "id": "1c0f09e0",
   "metadata": {},
   "outputs": [],
   "source": []
  },
  {
   "cell_type": "code",
   "execution_count": null,
   "id": "d77c5eea",
   "metadata": {},
   "outputs": [],
   "source": []
  },
  {
   "cell_type": "code",
   "execution_count": null,
   "id": "ec6a9e27",
   "metadata": {},
   "outputs": [],
   "source": []
  }
 ],
 "metadata": {
  "kernelspec": {
   "display_name": "Python 3 (ipykernel)",
   "language": "python",
   "name": "python3"
  },
  "language_info": {
   "codemirror_mode": {
    "name": "ipython",
    "version": 3
   },
   "file_extension": ".py",
   "mimetype": "text/x-python",
   "name": "python",
   "nbconvert_exporter": "python",
   "pygments_lexer": "ipython3",
   "version": "3.8.13"
  }
 },
 "nbformat": 4,
 "nbformat_minor": 5
}
