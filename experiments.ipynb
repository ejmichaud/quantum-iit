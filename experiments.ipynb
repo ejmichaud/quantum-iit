{
 "cells": [
  {
   "cell_type": "code",
   "execution_count": 1,
   "id": "fbcd9bc1",
   "metadata": {},
   "outputs": [],
   "source": [
    "from collections import defaultdict\n",
    "\n",
    "import numpy as np\n",
    "import matplotlib.pyplot as plt\n",
    "\n",
    "from tqdm.auto import tqdm\n",
    "\n",
    "import qutip as qt\n",
    "from qutip_qip.circuit import QubitCircuit\n",
    "from qutip_qip.operations import Gate\n",
    "\n",
    "from qiit.tqiit import *\n",
    "from qiit.custom import *"
   ]
  },
  {
   "cell_type": "code",
   "execution_count": 2,
   "id": "1ee81ee0",
   "metadata": {},
   "outputs": [],
   "source": [
    "zero_dm = qt.basis(2, 0) * qt.basis(2, 0).dag()\n",
    "one_dm = qt.basis(2, 1) * qt.basis(2, 1).dag()\n",
    "mixed_dm = qt.maximally_mixed_dm(2)\n",
    "\n",
    "plus = (qt.basis(2, 0) + qt.basis(2, 1)) / np.sqrt(2)\n",
    "minus = (qt.basis(2, 0) - qt.basis(2, 1)) / np.sqrt(2)\n",
    "plus_dm = plus * plus.dag()\n",
    "minus_dm = minus * minus.dag()\n",
    "\n",
    "epr = (qt.basis([2, 2], [0, 0]) + qt.basis([2, 2], [1, 1])) / np.sqrt(2)\n",
    "epr_dm = epr * epr.dag()"
   ]
  },
  {
   "cell_type": "markdown",
   "id": "7c40df21",
   "metadata": {},
   "source": [
    "### identity"
   ]
  },
  {
   "cell_type": "code",
   "execution_count": 3,
   "id": "a6be0137",
   "metadata": {},
   "outputs": [],
   "source": [
    "U = qt.identity([2, 2])"
   ]
  },
  {
   "cell_type": "code",
   "execution_count": 4,
   "id": "6d38d324",
   "metadata": {},
   "outputs": [
    {
     "name": "stdout",
     "output_type": "stream",
     "text": [
      "1.922055902288952e-15\n",
      "1.9721522630525295e-31\n",
      "0.0\n",
      "3.650024149988857e-08\n",
      "0.0\n"
     ]
    }
   ],
   "source": [
    "X = tprod(zero_dm, one_dm)\n",
    "print(qIInk(qt.to_super(U), X, [0, 1]))\n",
    "print(qIIns(qt.to_super(U), X, [0, 1]))\n",
    "print(qIInt(qt.to_super(U), X, [0, 1]))\n",
    "print(qIInb(qt.to_super(U), X, [0, 1]))\n",
    "print(qII3(qt.to_super(U), X, [0, 1]))"
   ]
  },
  {
   "cell_type": "code",
   "execution_count": 5,
   "id": "61977977",
   "metadata": {},
   "outputs": [
    {
     "name": "stdout",
     "output_type": "stream",
     "text": [
      "8.008566259537291e-16\n",
      "-1.6302251256459329e-15\n",
      "0.0\n",
      "5.5755039852469285e-08\n",
      "0.0\n"
     ]
    }
   ],
   "source": [
    "X = epr_dm\n",
    "print(qIInk(qt.to_super(U), X, [0, 1]))\n",
    "print(qIIns(qt.to_super(U), X, [0, 1]))\n",
    "print(qIInt(qt.to_super(U), X, [0, 1]))\n",
    "print(qIInb(qt.to_super(U), X, [0, 1]))\n",
    "print(qII3(qt.to_super(U), X, [0, 1]))"
   ]
  },
  {
   "cell_type": "markdown",
   "id": "edf9fc65",
   "metadata": {},
   "source": [
    "### swap"
   ]
  },
  {
   "cell_type": "code",
   "execution_count": 51,
   "id": "059220fe",
   "metadata": {},
   "outputs": [],
   "source": [
    "qc = QubitCircuit(N=2, num_cbits=0)\n",
    "qc.add_gate('SWAP', targets=[0, 1])\n",
    "U = qc.compute_unitary()"
   ]
  },
  {
   "cell_type": "code",
   "execution_count": 52,
   "id": "d32f7bf5",
   "metadata": {},
   "outputs": [
    {
     "name": "stdout",
     "output_type": "stream",
     "text": [
      "1.9999999999999993\n",
      "0.5487949406953989\n",
      "0.7500000000000001\n",
      "0.9999999999999999\n",
      "0.5\n"
     ]
    }
   ],
   "source": [
    "X = tprod(zero_dm, one_dm)\n",
    "print(qIInk(qt.to_super(U), X, [0, 1]))\n",
    "print(qIIns(qt.to_super(U), X, [0, 1]))\n",
    "print(qIInt(qt.to_super(U), X, [0, 1]))\n",
    "print(qIInb(qt.to_super(U), X, [0, 1]))\n",
    "print(qII3(qt.to_super(U), X, [0, 1]))"
   ]
  },
  {
   "cell_type": "code",
   "execution_count": 53,
   "id": "506a9018",
   "metadata": {},
   "outputs": [
    {
     "name": "stdout",
     "output_type": "stream",
     "text": [
      "1.9999999999999962\n",
      "0.548794940695398\n",
      "0.7499999999999999\n",
      "1.0000000000000002\n",
      "0.3750000015662913\n"
     ]
    }
   ],
   "source": [
    "X = epr_dm\n",
    "print(qIInk(qt.to_super(U), X, [0, 1]))\n",
    "print(qIIns(qt.to_super(U), X, [0, 1]))\n",
    "print(qIInt(qt.to_super(U), X, [0, 1]))\n",
    "print(qIInb(qt.to_super(U), X, [0, 1]))\n",
    "print(qII3(qt.to_super(U), X, [0, 1]))"
   ]
  },
  {
   "cell_type": "code",
   "execution_count": 54,
   "id": "979ac3cc",
   "metadata": {},
   "outputs": [
    {
     "data": {
      "application/vnd.jupyter.widget-view+json": {
       "model_id": "08eea29c34614522b12cd1b0d14ab5f8",
       "version_major": 2,
       "version_minor": 0
      },
      "text/plain": [
       "  0%|          | 0/500 [00:00<?, ?it/s]"
      ]
     },
     "metadata": {},
     "output_type": "display_data"
    }
   ],
   "source": [
    "nkresults = []\n",
    "nsresults = []\n",
    "ntresults = []\n",
    "nbresults = []\n",
    "n3results = []\n",
    "\n",
    "X = tprod(zero_dm, one_dm)\n",
    "\n",
    "ts = np.linspace(0, 3.14, 500)\n",
    "for t in tqdm(ts):\n",
    "    Ut = (1.0j * t * U).expm()\n",
    "    Ut_super = qt.to_super(Ut)\n",
    "    nkresults.append(qIInk(Ut_super, X, [0, 1]))\n",
    "    nsresults.append(qIIns(Ut_super, X, [0, 1]))\n",
    "    ntresults.append(qIInt(Ut_super, X, [0, 1]))\n",
    "    nbresults.append(qIInb(Ut_super, X, [0, 1]))\n",
    "    n3results.append(qII3(Ut_super, X, [0, 1]))"
   ]
  },
  {
   "cell_type": "code",
   "execution_count": 55,
   "id": "0a55f787",
   "metadata": {},
   "outputs": [],
   "source": [
    "plt.rcParams['text.usetex'] = True"
   ]
  },
  {
   "cell_type": "code",
   "execution_count": 64,
   "id": "1c9ac94f",
   "metadata": {},
   "outputs": [
    {
     "data": {
      "image/png": "[encoded data removed]",
      "text/plain": [
       "<Figure size 432x288 with 1 Axes>"
      ]
     },
     "metadata": {
      "needs_background": "light"
     },
     "output_type": "display_data"
    }
   ],
   "source": [
    "plt.plot(ts, nkresults, label=r\"$\\phi_q^{nk}$\")\n",
    "plt.plot(ts, nsresults, label=r\"$\\phi_q^{ns}$\")\n",
    "plt.plot(ts, ntresults, label=r\"$\\phi_q^{nt}$\")\n",
    "plt.plot(ts, nbresults, label=r\"$\\phi_q^{nb}$\")\n",
    "plt.plot(ts, n3results, label=r\"$\\phi_q^{3.0}$\")\n",
    "\n",
    "plt.xlabel(r\"$t$\", fontsize=20)\n",
    "plt.ylabel(r\"$\\phi$\", fontsize=20)\n",
    "plt.title(r\"$\\mathcal{E}(\\rho) = e^{itS} \\rho e^{-itS}$\", fontsize=20)\n",
    "plt.xticks(fontsize=15)\n",
    "plt.yticks(fontsize=15)\n",
    "\n",
    "plt.legend(prop={'size':15})\n",
    "plt.tight_layout()\n",
    "plt.savefig('figures/swaptimeseries.pdf')"
   ]
  },
  {
   "cell_type": "code",
   "execution_count": 70,
   "id": "28c29aa2",
   "metadata": {},
   "outputs": [
    {
     "data": {
      "image/png": "[encoded data removed]",
      "text/plain": [
       "<Figure size 432x288 with 1 Axes>"
      ]
     },
     "metadata": {
      "needs_background": "light"
     },
     "output_type": "display_data"
    }
   ],
   "source": [
    "# plt.plot(ts, nkresults, label=r\"$\\phi_q^{nk}$\")\n",
    "plt.plot(ts, nsresults, label=r\"$\\phi_q^{ns}$\", color='orange')\n",
    "# plt.plot(ts, ntresults, label=r\"$\\phi_q^{nt}$\")\n",
    "# plt.plot(ts, nbresults, label=r\"$\\phi_q^{nb}$\")\n",
    "plt.plot(ts, n3results, label=r\"$\\phi_q^{3.0}$\", color='purple')\n",
    "\n",
    "plt.xlabel(r\"$t$\", fontsize=20)\n",
    "plt.ylabel(r\"$\\phi$\", fontsize=20)\n",
    "plt.title(r\"$\\mathcal{E}(\\rho) = e^{itS} \\rho e^{-itS}$\", fontsize=20)\n",
    "plt.xticks(fontsize=15)\n",
    "plt.yticks(fontsize=15)\n",
    "\n",
    "plt.legend(prop={'size':15})\n",
    "plt.tight_layout()\n",
    "plt.savefig('figures/swaptimeseries-ns-vs-n3.pdf')"
   ]
  },
  {
   "cell_type": "markdown",
   "id": "1dd8d1b4",
   "metadata": {},
   "source": [
    "### bell"
   ]
  },
  {
   "cell_type": "code",
   "execution_count": 12,
   "id": "52089525",
   "metadata": {},
   "outputs": [],
   "source": [
    "qc = QubitCircuit(N=2, num_cbits=0)\n",
    "qc.add_gate('SNOT', targets=1)\n",
    "qc.add_gate('CNOT', controls=1, targets=0)\n",
    "U = qc.compute_unitary()"
   ]
  },
  {
   "cell_type": "code",
   "execution_count": 13,
   "id": "0ffb0a07",
   "metadata": {},
   "outputs": [
    {
     "data": {
      "image/png": "[encoded data removed]",
      "text/plain": [
       "<IPython.core.display.Image object>"
      ]
     },
     "execution_count": 13,
     "metadata": {},
     "output_type": "execute_result"
    }
   ],
   "source": [
    "qc.png"
   ]
  },
  {
   "cell_type": "code",
   "execution_count": 14,
   "id": "d03364c8",
   "metadata": {},
   "outputs": [
    {
     "data": {
      "text/latex": [
       "Quantum object: dims = [[2, 2], [2, 2]], shape = (4, 4), type = oper, isherm = False\\begin{equation*}\\left(\\begin{array}{*{11}c}0.707 & 0.707 & 0.0 & 0.0\\\\0.0 & 0.0 & 0.707 & -0.707\\\\0.0 & 0.0 & 0.707 & 0.707\\\\0.707 & -0.707 & 0.0 & 0.0\\\\\\end{array}\\right)\\end{equation*}"
      ],
      "text/plain": [
       "Quantum object: dims = [[2, 2], [2, 2]], shape = (4, 4), type = oper, isherm = False\n",
       "Qobj data =\n",
       "[[ 0.70710678  0.70710678  0.          0.        ]\n",
       " [ 0.          0.          0.70710678 -0.70710678]\n",
       " [ 0.          0.          0.70710678  0.70710678]\n",
       " [ 0.70710678 -0.70710678  0.          0.        ]]"
      ]
     },
     "execution_count": 14,
     "metadata": {},
     "output_type": "execute_result"
    }
   ],
   "source": [
    "U"
   ]
  },
  {
   "cell_type": "code",
   "execution_count": 15,
   "id": "8280188e",
   "metadata": {},
   "outputs": [
    {
     "name": "stdout",
     "output_type": "stream",
     "text": [
      "inf\n",
      "0.7238139441462017\n",
      "0.8090170031619788\n",
      "1.000000000000001\n",
      "0.7529060783505003\n"
     ]
    }
   ],
   "source": [
    "X = tprod(zero_dm, one_dm)\n",
    "print(qIInk(qt.to_super(U), X, [0, 1]))\n",
    "print(qIIns(qt.to_super(U), X, [0, 1]))\n",
    "print(qIInt(qt.to_super(U), X, [0, 1]))\n",
    "print(qIInb(qt.to_super(U), X, [0, 1]))\n",
    "print(qII3(qt.to_super(U), X, [0, 1]))"
   ]
  },
  {
   "cell_type": "code",
   "execution_count": 16,
   "id": "03333e2b",
   "metadata": {},
   "outputs": [
    {
     "name": "stdout",
     "output_type": "stream",
     "text": [
      "2.000000000000003\n",
      "0.5487949406953982\n",
      "0.7499999999999998\n",
      "0.9999999988333471\n",
      "0.25000000083249896\n"
     ]
    }
   ],
   "source": [
    "X = epr_dm\n",
    "print(qIInk(qt.to_super(U), X, [0, 1]))\n",
    "print(qIIns(qt.to_super(U), X, [0, 1]))\n",
    "print(qIInt(qt.to_super(U), X, [0, 1]))\n",
    "print(qIInb(qt.to_super(U), X, [0, 1]))\n",
    "print(qII3(qt.to_super(U), X, [0, 1]))"
   ]
  },
  {
   "cell_type": "markdown",
   "id": "a0ffe797",
   "metadata": {},
   "source": [
    "### Random unitaries"
   ]
  },
  {
   "cell_type": "code",
   "execution_count": 73,
   "id": "0eb63489",
   "metadata": {},
   "outputs": [
    {
     "data": {
      "application/vnd.jupyter.widget-view+json": {
       "model_id": "836b88f62d9347b68b641d46014f80ba",
       "version_major": 2,
       "version_minor": 0
      },
      "text/plain": [
       "  0%|          | 0/4 [00:00<?, ?it/s]"
      ]
     },
     "metadata": {},
     "output_type": "display_data"
    },
    {
     "data": {
      "application/vnd.jupyter.widget-view+json": {
       "model_id": "",
       "version_major": 2,
       "version_minor": 0
      },
      "text/plain": [
       "  0%|          | 0/20 [00:00<?, ?it/s]"
      ]
     },
     "metadata": {},
     "output_type": "display_data"
    },
    {
     "data": {
      "application/vnd.jupyter.widget-view+json": {
       "model_id": "",
       "version_major": 2,
       "version_minor": 0
      },
      "text/plain": [
       "  0%|          | 0/20 [00:00<?, ?it/s]"
      ]
     },
     "metadata": {},
     "output_type": "display_data"
    },
    {
     "data": {
      "application/vnd.jupyter.widget-view+json": {
       "model_id": "",
       "version_major": 2,
       "version_minor": 0
      },
      "text/plain": [
       "  0%|          | 0/20 [00:00<?, ?it/s]"
      ]
     },
     "metadata": {},
     "output_type": "display_data"
    },
    {
     "data": {
      "application/vnd.jupyter.widget-view+json": {
       "model_id": "",
       "version_major": 2,
       "version_minor": 0
      },
      "text/plain": [
       "  0%|          | 0/20 [00:00<?, ?it/s]"
      ]
     },
     "metadata": {},
     "output_type": "display_data"
    }
   ],
   "source": [
    "nkresults = defaultdict(list)\n",
    "\n",
    "ns = [2, 3, 4, 5]\n",
    "\n",
    "for n in tqdm(ns):\n",
    "    X = tprod(*[zero_dm for _ in range(n)])\n",
    "    for _ in tqdm(range(20), leave=False):\n",
    "        Ur = qt.rand_unitary(2**n, dims=[[2]*n, [2]*n])\n",
    "        nkresults[n].append(qIInk(qt.to_super(Ur), X, list(range(n))))\n",
    "    "
   ]
  },
  {
   "cell_type": "code",
   "execution_count": 87,
   "id": "aaaa5d69",
   "metadata": {},
   "outputs": [
    {
     "data": {
      "image/png": "[encoded data removed]",
      "text/plain": [
       "<Figure size 432x288 with 1 Axes>"
      ]
     },
     "metadata": {
      "needs_background": "light"
     },
     "output_type": "display_data"
    }
   ],
   "source": [
    "color = 'C0'\n",
    "for n in ns:\n",
    "    plt.scatter([n]*len(nkresults[2]), nkresults[n], color=color)\n",
    "\n",
    "plt.xticks(ns, fontsize=15)\n",
    "plt.yticks(fontsize=15)\n",
    "plt.ylim(0, None)\n",
    "plt.xlabel(\"Size of system (qubits)\", fontsize=15)\n",
    "plt.ylabel(r\"$\\phi$\", fontsize=20)\n",
    "plt.title(r\"$\\phi_q^{nk}$ for random unitaries\", fontsize=20)\n",
    "\n",
    "plt.tight_layout()\n",
    "plt.savefig('figures/nk-random-unitaries.pdf')"
   ]
  },
  {
   "cell_type": "code",
   "execution_count": 80,
   "id": "e5619cec",
   "metadata": {},
   "outputs": [
    {
     "data": {
      "application/vnd.jupyter.widget-view+json": {
       "model_id": "b4031366f6474e35ba47bae134b65220",
       "version_major": 2,
       "version_minor": 0
      },
      "text/plain": [
       "  0%|          | 0/4 [00:00<?, ?it/s]"
      ]
     },
     "metadata": {},
     "output_type": "display_data"
    },
    {
     "data": {
      "application/vnd.jupyter.widget-view+json": {
       "model_id": "",
       "version_major": 2,
       "version_minor": 0
      },
      "text/plain": [
       "  0%|          | 0/20 [00:00<?, ?it/s]"
      ]
     },
     "metadata": {},
     "output_type": "display_data"
    },
    {
     "data": {
      "application/vnd.jupyter.widget-view+json": {
       "model_id": "",
       "version_major": 2,
       "version_minor": 0
      },
      "text/plain": [
       "  0%|          | 0/20 [00:00<?, ?it/s]"
      ]
     },
     "metadata": {},
     "output_type": "display_data"
    },
    {
     "data": {
      "application/vnd.jupyter.widget-view+json": {
       "model_id": "",
       "version_major": 2,
       "version_minor": 0
      },
      "text/plain": [
       "  0%|          | 0/20 [00:00<?, ?it/s]"
      ]
     },
     "metadata": {},
     "output_type": "display_data"
    },
    {
     "data": {
      "application/vnd.jupyter.widget-view+json": {
       "model_id": "",
       "version_major": 2,
       "version_minor": 0
      },
      "text/plain": [
       "  0%|          | 0/20 [00:00<?, ?it/s]"
      ]
     },
     "metadata": {},
     "output_type": "display_data"
    }
   ],
   "source": [
    "nsresults = defaultdict(list)\n",
    "\n",
    "ns = [2, 3, 4, 5]\n",
    "\n",
    "for n in tqdm(ns):\n",
    "    X = tprod(*[zero_dm for _ in range(n)])\n",
    "    for _ in tqdm(range(20), leave=False):\n",
    "        Ur = qt.rand_unitary(2**n, dims=[[2]*n, [2]*n])\n",
    "        nsresults[n].append(qIIns(qt.to_super(Ur), X, list(range(n))))\n",
    "    "
   ]
  },
  {
   "cell_type": "code",
   "execution_count": 88,
   "id": "4d37b66c",
   "metadata": {},
   "outputs": [
    {
     "data": {
      "image/png": "[encoded data removed]",
      "text/plain": [
       "<Figure size 432x288 with 1 Axes>"
      ]
     },
     "metadata": {
      "needs_background": "light"
     },
     "output_type": "display_data"
    }
   ],
   "source": [
    "color = 'orange'\n",
    "for n in ns:\n",
    "    plt.scatter([n]*len(nsresults[2]), nsresults[n], color=color)\n",
    "\n",
    "plt.xticks(ns, fontsize=15)\n",
    "plt.yticks(fontsize=15)\n",
    "plt.ylim(0, None)\n",
    "plt.xlabel(\"Size of system (qubits)\", fontsize=15)\n",
    "plt.ylabel(r\"$\\phi$\", fontsize=20)\n",
    "plt.title(r\"$\\phi_q^{ns}$ for random unitaries\", fontsize=20)\n",
    "\n",
    "plt.tight_layout()\n",
    "plt.savefig('figures/ns-random-unitaries.pdf')"
   ]
  },
  {
   "cell_type": "code",
   "execution_count": 82,
   "id": "ec130338",
   "metadata": {},
   "outputs": [
    {
     "data": {
      "application/vnd.jupyter.widget-view+json": {
       "model_id": "b541a2012b49404d870c483008165d7a",
       "version_major": 2,
       "version_minor": 0
      },
      "text/plain": [
       "  0%|          | 0/4 [00:00<?, ?it/s]"
      ]
     },
     "metadata": {},
     "output_type": "display_data"
    },
    {
     "data": {
      "application/vnd.jupyter.widget-view+json": {
       "model_id": "",
       "version_major": 2,
       "version_minor": 0
      },
      "text/plain": [
       "  0%|          | 0/20 [00:00<?, ?it/s]"
      ]
     },
     "metadata": {},
     "output_type": "display_data"
    },
    {
     "data": {
      "application/vnd.jupyter.widget-view+json": {
       "model_id": "",
       "version_major": 2,
       "version_minor": 0
      },
      "text/plain": [
       "  0%|          | 0/20 [00:00<?, ?it/s]"
      ]
     },
     "metadata": {},
     "output_type": "display_data"
    },
    {
     "data": {
      "application/vnd.jupyter.widget-view+json": {
       "model_id": "",
       "version_major": 2,
       "version_minor": 0
      },
      "text/plain": [
       "  0%|          | 0/20 [00:00<?, ?it/s]"
      ]
     },
     "metadata": {},
     "output_type": "display_data"
    },
    {
     "data": {
      "application/vnd.jupyter.widget-view+json": {
       "model_id": "",
       "version_major": 2,
       "version_minor": 0
      },
      "text/plain": [
       "  0%|          | 0/20 [00:00<?, ?it/s]"
      ]
     },
     "metadata": {},
     "output_type": "display_data"
    }
   ],
   "source": [
    "ntresults = defaultdict(list)\n",
    "\n",
    "ns = [2, 3, 4, 5]\n",
    "\n",
    "for n in tqdm(ns):\n",
    "    X = tprod(*[zero_dm for _ in range(n)])\n",
    "    for _ in tqdm(range(20), leave=False):\n",
    "        Ur = qt.rand_unitary(2**n, dims=[[2]*n, [2]*n])\n",
    "        ntresults[n].append(qIInt(qt.to_super(Ur), X, list(range(n))))\n",
    "    "
   ]
  },
  {
   "cell_type": "code",
   "execution_count": 89,
   "id": "d6be4450",
   "metadata": {},
   "outputs": [
    {
     "data": {
      "image/png": "[encoded data removed]",
      "text/plain": [
       "<Figure size 432x288 with 1 Axes>"
      ]
     },
     "metadata": {
      "needs_background": "light"
     },
     "output_type": "display_data"
    }
   ],
   "source": [
    "color = 'green'\n",
    "for n in ns:\n",
    "    plt.scatter([n]*len(ntresults[2]), ntresults[n], color=color)\n",
    "\n",
    "plt.xticks(ns, fontsize=15)\n",
    "plt.yticks(fontsize=15)\n",
    "plt.ylim(0, None)\n",
    "plt.xlabel(\"Size of system (qubits)\", fontsize=15)\n",
    "plt.ylabel(r\"$\\phi$\", fontsize=20)\n",
    "plt.title(r\"$\\phi_q^{nt}$ for random unitaries\", fontsize=20)\n",
    "\n",
    "plt.tight_layout()\n",
    "plt.savefig('figures/nt-random-unitaries.pdf')"
   ]
  },
  {
   "cell_type": "code",
   "execution_count": 84,
   "id": "9685c4cb",
   "metadata": {},
   "outputs": [
    {
     "data": {
      "application/vnd.jupyter.widget-view+json": {
       "model_id": "0f571521e10d41d5983be1202b383bc7",
       "version_major": 2,
       "version_minor": 0
      },
      "text/plain": [
       "  0%|          | 0/4 [00:00<?, ?it/s]"
      ]
     },
     "metadata": {},
     "output_type": "display_data"
    },
    {
     "data": {
      "application/vnd.jupyter.widget-view+json": {
       "model_id": "",
       "version_major": 2,
       "version_minor": 0
      },
      "text/plain": [
       "  0%|          | 0/20 [00:00<?, ?it/s]"
      ]
     },
     "metadata": {},
     "output_type": "display_data"
    },
    {
     "data": {
      "application/vnd.jupyter.widget-view+json": {
       "model_id": "",
       "version_major": 2,
       "version_minor": 0
      },
      "text/plain": [
       "  0%|          | 0/20 [00:00<?, ?it/s]"
      ]
     },
     "metadata": {},
     "output_type": "display_data"
    },
    {
     "data": {
      "application/vnd.jupyter.widget-view+json": {
       "model_id": "",
       "version_major": 2,
       "version_minor": 0
      },
      "text/plain": [
       "  0%|          | 0/20 [00:00<?, ?it/s]"
      ]
     },
     "metadata": {},
     "output_type": "display_data"
    },
    {
     "data": {
      "application/vnd.jupyter.widget-view+json": {
       "model_id": "",
       "version_major": 2,
       "version_minor": 0
      },
      "text/plain": [
       "  0%|          | 0/20 [00:00<?, ?it/s]"
      ]
     },
     "metadata": {},
     "output_type": "display_data"
    }
   ],
   "source": [
    "nbresults = defaultdict(list)\n",
    "\n",
    "ns = [2, 3, 4, 5]\n",
    "\n",
    "for n in tqdm(ns):\n",
    "    X = tprod(*[zero_dm for _ in range(n)])\n",
    "    for _ in tqdm(range(20), leave=False):\n",
    "        Ur = qt.rand_unitary(2**n, dims=[[2]*n, [2]*n])\n",
    "        nbresults[n].append(qIInb(qt.to_super(Ur), X, list(range(n))))\n",
    "    "
   ]
  },
  {
   "cell_type": "code",
   "execution_count": 90,
   "id": "8e2a4878",
   "metadata": {},
   "outputs": [
    {
     "data": {
      "image/png": "[encoded data removed]",
      "text/plain": [
       "<Figure size 432x288 with 1 Axes>"
      ]
     },
     "metadata": {
      "needs_background": "light"
     },
     "output_type": "display_data"
    }
   ],
   "source": [
    "color = 'red'\n",
    "for n in ns:\n",
    "    plt.scatter([n]*len(ntresults[2]), ntresults[n], color=color)\n",
    "\n",
    "plt.xticks(ns, fontsize=15)\n",
    "plt.yticks(fontsize=15)\n",
    "plt.ylim(0, None)\n",
    "plt.xlabel(\"Size of system (qubits)\", fontsize=15)\n",
    "plt.ylabel(r\"$\\phi$\", fontsize=20)\n",
    "plt.title(r\"$\\phi_q^{nb}$ for random unitaries\", fontsize=20)\n",
    "\n",
    "plt.tight_layout()\n",
    "plt.savefig('figures/nb-random-unitaries.pdf')"
   ]
  },
  {
   "cell_type": "code",
   "execution_count": 97,
   "id": "1a40940f",
   "metadata": {},
   "outputs": [
    {
     "data": {
      "image/png": "[encoded data removed]",
      "text/plain": [
       "<Figure size 432x288 with 1 Axes>"
      ]
     },
     "metadata": {
      "needs_background": "light"
     },
     "output_type": "display_data"
    }
   ],
   "source": [
    "\n",
    "plt.scatter([2]*20, nkresults[2], label=r\"$\\phi_q^{nk}$\", color='blue')\n",
    "plt.scatter([2]*20, nsresults[2], label=r\"$\\phi_q^{ns}$\", color='orange')\n",
    "plt.scatter([2]*20, ntresults[2], label=r\"$\\phi_q^{nt}$\", color='green')\n",
    "plt.scatter([2]*20, nbresults[2], label=r\"$\\phi_q^{nb}$\", color='red')\n",
    "\n",
    "plt.scatter([3]*20, nkresults[3], color='blue')\n",
    "plt.scatter([3]*20, nsresults[3], color='orange')\n",
    "plt.scatter([3]*20, ntresults[3], color='green')\n",
    "plt.scatter([3]*20, nbresults[3], color='red')\n",
    "\n",
    "plt.scatter([4]*20, nkresults[4], color='blue')\n",
    "plt.scatter([4]*20, nsresults[4], color='orange')\n",
    "plt.scatter([4]*20, ntresults[4], color='green')\n",
    "plt.scatter([4]*20, nbresults[4], color='red')\n",
    "\n",
    "plt.scatter([5]*20, nkresults[5], color='blue')\n",
    "plt.scatter([5]*20, nsresults[5], color='orange')\n",
    "plt.scatter([5]*20, ntresults[5], color='green')\n",
    "plt.scatter([5]*20, nbresults[5], color='red')\n",
    "\n",
    "\n",
    "plt.xticks(ns, fontsize=15)\n",
    "plt.yticks(fontsize=15)\n",
    "plt.ylim(0, None)\n",
    "plt.xlabel(\"Size of system (qubits)\", fontsize=15)\n",
    "plt.ylabel(r\"$\\phi$\", fontsize=20)\n",
    "plt.title(r\"$\\phi$ measures on random unitaries\", fontsize=20)\n",
    "# plt.xlabel(r\"$t$\", fontsize=20)\n",
    "# plt.ylabel(r\"$\\phi$\", fontsize=20)\n",
    "# plt.title(r\"$\\mathcal{E}(\\rho) = e^{itS} \\rho e^{-itS}$\", fontsize=20)\n",
    "# plt.xticks(fontsize=15)\n",
    "# plt.yticks(fontsize=15)\n",
    "\n",
    "plt.legend(loc='upper left', prop={'size':15})\n",
    "plt.tight_layout()\n",
    "plt.savefig('figures/all-random-unitaries.pdf')"
   ]
  },
  {
   "cell_type": "code",
   "execution_count": null,
   "id": "26a358a8",
   "metadata": {},
   "outputs": [],
   "source": []
  },
  {
   "cell_type": "code",
   "execution_count": null,
   "id": "5e987555",
   "metadata": {},
   "outputs": [],
   "source": []
  },
  {
   "cell_type": "code",
   "execution_count": 86,
   "id": "5fae040b",
   "metadata": {},
   "outputs": [
    {
     "data": {
      "application/vnd.jupyter.widget-view+json": {
       "model_id": "6950f1ab832c4c449544fdb55a949ec9",
       "version_major": 2,
       "version_minor": 0
      },
      "text/plain": [
       "  0%|          | 0/4 [00:00<?, ?it/s]"
      ]
     },
     "metadata": {},
     "output_type": "display_data"
    },
    {
     "data": {
      "application/vnd.jupyter.widget-view+json": {
       "model_id": "",
       "version_major": 2,
       "version_minor": 0
      },
      "text/plain": [
       "  0%|          | 0/20 [00:00<?, ?it/s]"
      ]
     },
     "metadata": {},
     "output_type": "display_data"
    },
    {
     "data": {
      "application/vnd.jupyter.widget-view+json": {
       "model_id": "",
       "version_major": 2,
       "version_minor": 0
      },
      "text/plain": [
       "  0%|          | 0/20 [00:00<?, ?it/s]"
      ]
     },
     "metadata": {},
     "output_type": "display_data"
    },
    {
     "data": {
      "application/vnd.jupyter.widget-view+json": {
       "model_id": "98d0e8ecd5db45d69281bcdbc47a669c",
       "version_major": 2,
       "version_minor": 0
      },
      "text/plain": [
       "  0%|          | 0/20 [00:00<?, ?it/s]"
      ]
     },
     "metadata": {},
     "output_type": "display_data"
    },
    {
     "ename": "KeyboardInterrupt",
     "evalue": "",
     "output_type": "error",
     "traceback": [
      "\u001b[0;31m---------------------------------------------------------------------------\u001b[0m",
      "\u001b[0;31mKeyboardInterrupt\u001b[0m                         Traceback (most recent call last)",
      "Input \u001b[0;32mIn [86]\u001b[0m, in \u001b[0;36m<cell line: 5>\u001b[0;34m()\u001b[0m\n\u001b[1;32m      7\u001b[0m \u001b[38;5;28;01mfor\u001b[39;00m _ \u001b[38;5;129;01min\u001b[39;00m tqdm(\u001b[38;5;28mrange\u001b[39m(\u001b[38;5;241m20\u001b[39m), leave\u001b[38;5;241m=\u001b[39m\u001b[38;5;28;01mFalse\u001b[39;00m):\n\u001b[1;32m      8\u001b[0m     Ur \u001b[38;5;241m=\u001b[39m qt\u001b[38;5;241m.\u001b[39mrand_unitary(\u001b[38;5;241m2\u001b[39m\u001b[38;5;241m*\u001b[39m\u001b[38;5;241m*\u001b[39mn, dims\u001b[38;5;241m=\u001b[39m[[\u001b[38;5;241m2\u001b[39m]\u001b[38;5;241m*\u001b[39mn, [\u001b[38;5;241m2\u001b[39m]\u001b[38;5;241m*\u001b[39mn])\n\u001b[0;32m----> 9\u001b[0m     n3results[n]\u001b[38;5;241m.\u001b[39mappend(\u001b[43mqII3\u001b[49m\u001b[43m(\u001b[49m\u001b[43mqt\u001b[49m\u001b[38;5;241;43m.\u001b[39;49m\u001b[43mto_super\u001b[49m\u001b[43m(\u001b[49m\u001b[43mUr\u001b[49m\u001b[43m)\u001b[49m\u001b[43m,\u001b[49m\u001b[43m \u001b[49m\u001b[43mX\u001b[49m\u001b[43m,\u001b[49m\u001b[43m \u001b[49m\u001b[38;5;28;43mlist\u001b[39;49m\u001b[43m(\u001b[49m\u001b[38;5;28;43mrange\u001b[39;49m\u001b[43m(\u001b[49m\u001b[43mn\u001b[49m\u001b[43m)\u001b[49m\u001b[43m)\u001b[49m\u001b[43m)\u001b[49m)\n",
      "File \u001b[0;32m~/Dropbox/MIT/class/8.371/project/quantum-iit/qiit/tqiit.py:400\u001b[0m, in \u001b[0;36mqII3\u001b[0;34m(U, Psi, indices)\u001b[0m\n\u001b[1;32m    398\u001b[0m U12 \u001b[38;5;241m=\u001b[39m partitioned_channel(U, P1, P2, indices)\n\u001b[1;32m    399\u001b[0m U12star \u001b[38;5;241m=\u001b[39m superoperator_adjoint(U12)\n\u001b[0;32m--> 400\u001b[0m C1 \u001b[38;5;241m=\u001b[39m \u001b[43mCS\u001b[49m\u001b[43m(\u001b[49m\u001b[43mU\u001b[49m\u001b[43m,\u001b[49m\u001b[43m \u001b[49m\u001b[43mUstar\u001b[49m\u001b[43m,\u001b[49m\u001b[43m \u001b[49m\u001b[43mPsi\u001b[49m\u001b[43m,\u001b[49m\u001b[43m \u001b[49m\u001b[43mindices\u001b[49m\u001b[43m)\u001b[49m\n\u001b[1;32m    401\u001b[0m C2 \u001b[38;5;241m=\u001b[39m CS(U12, U12star, Psi, indices)\n\u001b[1;32m    402\u001b[0m \u001b[38;5;66;03m# print(f\"Conceptual Structure 1: {C1}\")\u001b[39;00m\n\u001b[1;32m    403\u001b[0m \u001b[38;5;66;03m# print(f\"Conceptual Structure 2: {C2}\")\u001b[39;00m\n",
      "File \u001b[0;32m~/Dropbox/MIT/class/8.371/project/quantum-iit/qiit/tqiit.py:359\u001b[0m, in \u001b[0;36mCS\u001b[0;34m(U, Ustar, Psi, indices)\u001b[0m\n\u001b[1;32m    357\u001b[0m cs_dict \u001b[38;5;241m=\u001b[39m \u001b[38;5;28mdict\u001b[39m()\n\u001b[1;32m    358\u001b[0m \u001b[38;5;28;01mfor\u001b[39;00m M \u001b[38;5;129;01min\u001b[39;00m subsets(indices):\n\u001b[0;32m--> 359\u001b[0m     rc, pc \u001b[38;5;241m=\u001b[39m \u001b[43mrepertoire_c\u001b[49m\u001b[43m(\u001b[49m\u001b[43mM\u001b[49m\u001b[43m,\u001b[49m\u001b[43m \u001b[49m\u001b[43mUstar\u001b[49m\u001b[43m,\u001b[49m\u001b[43m \u001b[49m\u001b[43mPsi\u001b[49m\u001b[43m,\u001b[49m\u001b[43m \u001b[49m\u001b[43mindices\u001b[49m\u001b[43m)\u001b[49m\n\u001b[1;32m    360\u001b[0m     re, pe \u001b[38;5;241m=\u001b[39m repertoire_e(M, U, Psi, indices)\n\u001b[1;32m    361\u001b[0m     \u001b[38;5;28;01mif\u001b[39;00m \u001b[38;5;28mmin\u001b[39m(pe, pc) \u001b[38;5;241m>\u001b[39m \u001b[38;5;241m0\u001b[39m:\n",
      "File \u001b[0;32m~/Dropbox/MIT/class/8.371/project/quantum-iit/qiit/tqiit.py:268\u001b[0m, in \u001b[0;36mrepertoire_c\u001b[0;34m(M, Ustar, Psi, indices)\u001b[0m\n\u001b[1;32m    264\u001b[0m \u001b[38;5;28;01mdef\u001b[39;00m \u001b[38;5;21mrepertoire_c\u001b[39m(M, Ustar, Psi, indices):\n\u001b[1;32m    265\u001b[0m     \u001b[38;5;124;03m\"\"\"Computes rho_e(P_star|M) tensor producted with the rest of the system\u001b[39;00m\n\u001b[1;32m    266\u001b[0m \u001b[38;5;124;03m    maximally-mixed. here P_star is the core effect of M w.r.t. Ustar and Psi.\u001b[39;00m\n\u001b[1;32m    267\u001b[0m \u001b[38;5;124;03m    \"\"\"\u001b[39;00m\n\u001b[0;32m--> 268\u001b[0m     P_star, integrated_c_phi \u001b[38;5;241m=\u001b[39m \u001b[43mcore_cause\u001b[49m\u001b[43m(\u001b[49m\u001b[43mM\u001b[49m\u001b[43m,\u001b[49m\u001b[43m \u001b[49m\u001b[43mUstar\u001b[49m\u001b[43m,\u001b[49m\u001b[43m \u001b[49m\u001b[43mPsi\u001b[49m\u001b[43m,\u001b[49m\u001b[43m \u001b[49m\u001b[43mindices\u001b[49m\u001b[43m)\u001b[49m\n\u001b[1;32m    269\u001b[0m     rho_c_star \u001b[38;5;241m=\u001b[39m rho_c(P_star, M, Ustar, Psi, indices)\n\u001b[1;32m    270\u001b[0m     P_starp \u001b[38;5;241m=\u001b[39m complement(P_star, indices)\n",
      "File \u001b[0;32m~/Dropbox/MIT/class/8.371/project/quantum-iit/qiit/tqiit.py:245\u001b[0m, in \u001b[0;36mcore_cause\u001b[0;34m(M, Ustar, Psi, indices)\u001b[0m\n\u001b[1;32m    243\u001b[0m mask \u001b[38;5;241m=\u001b[39m [(i \u001b[38;5;241m/\u001b[39m\u001b[38;5;241m/\u001b[39m (\u001b[38;5;241m2\u001b[39m\u001b[38;5;241m*\u001b[39m\u001b[38;5;241m*\u001b[39mk)) \u001b[38;5;241m%\u001b[39m \u001b[38;5;241m2\u001b[39m \u001b[38;5;28;01mfor\u001b[39;00m k \u001b[38;5;129;01min\u001b[39;00m \u001b[38;5;28mrange\u001b[39m(n)]\n\u001b[1;32m    244\u001b[0m P \u001b[38;5;241m=\u001b[39m [indices[k] \u001b[38;5;28;01mfor\u001b[39;00m k \u001b[38;5;129;01min\u001b[39;00m \u001b[38;5;28mrange\u001b[39m(n) \u001b[38;5;28;01mif\u001b[39;00m mask[k]]\n\u001b[0;32m--> 245\u001b[0m phi_PM \u001b[38;5;241m=\u001b[39m \u001b[43mphi_c\u001b[49m\u001b[43m(\u001b[49m\u001b[43mP\u001b[49m\u001b[43m,\u001b[49m\u001b[43m \u001b[49m\u001b[43mM\u001b[49m\u001b[43m,\u001b[49m\u001b[43m \u001b[49m\u001b[43mUstar\u001b[49m\u001b[43m,\u001b[49m\u001b[43m \u001b[49m\u001b[43mPsi\u001b[49m\u001b[43m,\u001b[49m\u001b[43m \u001b[49m\u001b[43mindices\u001b[49m\u001b[43m)\u001b[49m\n\u001b[1;32m    246\u001b[0m \u001b[38;5;28;01mif\u001b[39;00m phi_PM \u001b[38;5;241m>\u001b[39m max_phi:\n\u001b[1;32m    247\u001b[0m     max_phi \u001b[38;5;241m=\u001b[39m phi_PM\n",
      "File \u001b[0;32m~/Dropbox/MIT/class/8.371/project/quantum-iit/qiit/tqiit.py:187\u001b[0m, in \u001b[0;36mphi_c\u001b[0;34m(P, M, Ustar, Psi, indices)\u001b[0m\n\u001b[1;32m    185\u001b[0m M1 \u001b[38;5;241m=\u001b[39m [M[k] \u001b[38;5;28;01mfor\u001b[39;00m k \u001b[38;5;129;01min\u001b[39;00m \u001b[38;5;28mrange\u001b[39m(\u001b[38;5;28mlen\u001b[39m(M)) \u001b[38;5;28;01mif\u001b[39;00m maskM[k]]\n\u001b[1;32m    186\u001b[0m M2 \u001b[38;5;241m=\u001b[39m complement(M1, M)\n\u001b[0;32m--> 187\u001b[0m rho_PM \u001b[38;5;241m=\u001b[39m \u001b[43mrho_c\u001b[49m\u001b[43m(\u001b[49m\u001b[43mP\u001b[49m\u001b[43m,\u001b[49m\u001b[43m \u001b[49m\u001b[43mM\u001b[49m\u001b[43m,\u001b[49m\u001b[43m \u001b[49m\u001b[43mUstar\u001b[49m\u001b[43m,\u001b[49m\u001b[43m \u001b[49m\u001b[43mPsi\u001b[49m\u001b[43m,\u001b[49m\u001b[43m \u001b[49m\u001b[43mindices\u001b[49m\u001b[43m)\u001b[49m\n\u001b[1;32m    188\u001b[0m rho_P1M1 \u001b[38;5;241m=\u001b[39m rho_c(P1, M1, Ustar, Psi, indices)\n\u001b[1;32m    189\u001b[0m rho_P2M2 \u001b[38;5;241m=\u001b[39m rho_c(P2, M2, Ustar, Psi, indices)\n",
      "File \u001b[0;32m~/Dropbox/MIT/class/8.371/project/quantum-iit/qiit/tqiit.py:72\u001b[0m, in \u001b[0;36mrho_c\u001b[0;34m(P, M, Ustar, Psi, indices)\u001b[0m\n\u001b[1;32m     58\u001b[0m \u001b[38;5;124;03m\"\"\"Computes rho_c(P|M) for the given operation `Ustar` (adjoint of U) and state Psi.\u001b[39;00m\n\u001b[1;32m     59\u001b[0m \n\u001b[1;32m     60\u001b[0m \u001b[38;5;124;03mIf `P` is an empty set [], then returns a scalar, the complete trace of U^*(N_omega(Psi)).\u001b[39;00m\n\u001b[0;32m   (...)\u001b[0m\n\u001b[1;32m     69\u001b[0m \u001b[38;5;124;03m    A density matrix or scalar.\u001b[39;00m\n\u001b[1;32m     70\u001b[0m \u001b[38;5;124;03m\"\"\"\u001b[39;00m\n\u001b[1;32m     71\u001b[0m N_Mp_Psi \u001b[38;5;241m=\u001b[39m noising_omega(Psi, complement(M, indices), indices)\n\u001b[0;32m---> 72\u001b[0m Ustar_of_N \u001b[38;5;241m=\u001b[39m qt\u001b[38;5;241m.\u001b[39mvector_to_operator(\u001b[43mUstar\u001b[49m\u001b[43m \u001b[49m\u001b[38;5;241;43m*\u001b[39;49m\u001b[43m \u001b[49m\u001b[43mqt\u001b[49m\u001b[38;5;241;43m.\u001b[39;49m\u001b[43moperator_to_vector\u001b[49m\u001b[43m(\u001b[49m\u001b[43mN_Mp_Psi\u001b[49m\u001b[43m)\u001b[49m) \n\u001b[1;32m     73\u001b[0m \u001b[38;5;28;01mif\u001b[39;00m \u001b[38;5;129;01mnot\u001b[39;00m P:\n\u001b[1;32m     74\u001b[0m     \u001b[38;5;28;01mreturn\u001b[39;00m np\u001b[38;5;241m.\u001b[39mtrace(Ustar_of_N)\n",
      "File \u001b[0;32m~/code/miniconda3/envs/qinfo/lib/python3.8/site-packages/qutip/qobj.py:493\u001b[0m, in \u001b[0;36mQobj.__mul__\u001b[0;34m(self, other)\u001b[0m\n\u001b[1;32m    491\u001b[0m \u001b[38;5;28;01mif\u001b[39;00m \u001b[38;5;28mself\u001b[39m\u001b[38;5;241m.\u001b[39mdims[\u001b[38;5;241m1\u001b[39m] \u001b[38;5;241m==\u001b[39m other\u001b[38;5;241m.\u001b[39mdims[\u001b[38;5;241m0\u001b[39m]:\n\u001b[1;32m    492\u001b[0m     out \u001b[38;5;241m=\u001b[39m Qobj()\n\u001b[0;32m--> 493\u001b[0m     out\u001b[38;5;241m.\u001b[39mdata \u001b[38;5;241m=\u001b[39m \u001b[38;5;28;43mself\u001b[39;49m\u001b[38;5;241;43m.\u001b[39;49m\u001b[43mdata\u001b[49m\u001b[43m \u001b[49m\u001b[38;5;241;43m*\u001b[39;49m\u001b[43m \u001b[49m\u001b[43mother\u001b[49m\u001b[38;5;241;43m.\u001b[39;49m\u001b[43mdata\u001b[49m\n\u001b[1;32m    494\u001b[0m     dims \u001b[38;5;241m=\u001b[39m [\u001b[38;5;28mself\u001b[39m\u001b[38;5;241m.\u001b[39mdims[\u001b[38;5;241m0\u001b[39m], other\u001b[38;5;241m.\u001b[39mdims[\u001b[38;5;241m1\u001b[39m]]\n\u001b[1;32m    495\u001b[0m     out\u001b[38;5;241m.\u001b[39mdims \u001b[38;5;241m=\u001b[39m dims\n",
      "File \u001b[0;32m~/code/miniconda3/envs/qinfo/lib/python3.8/site-packages/scipy/sparse/base.py:480\u001b[0m, in \u001b[0;36mspmatrix.__mul__\u001b[0;34m(self, other)\u001b[0m\n\u001b[1;32m    478\u001b[0m     \u001b[38;5;28;01mif\u001b[39;00m \u001b[38;5;28mself\u001b[39m\u001b[38;5;241m.\u001b[39mshape[\u001b[38;5;241m1\u001b[39m] \u001b[38;5;241m!=\u001b[39m other\u001b[38;5;241m.\u001b[39mshape[\u001b[38;5;241m0\u001b[39m]:\n\u001b[1;32m    479\u001b[0m         \u001b[38;5;28;01mraise\u001b[39;00m \u001b[38;5;167;01mValueError\u001b[39;00m(\u001b[38;5;124m'\u001b[39m\u001b[38;5;124mdimension mismatch\u001b[39m\u001b[38;5;124m'\u001b[39m)\n\u001b[0;32m--> 480\u001b[0m     \u001b[38;5;28;01mreturn\u001b[39;00m \u001b[38;5;28;43mself\u001b[39;49m\u001b[38;5;241;43m.\u001b[39;49m\u001b[43m_mul_sparse_matrix\u001b[49m\u001b[43m(\u001b[49m\u001b[43mother\u001b[49m\u001b[43m)\u001b[49m\n\u001b[1;32m    482\u001b[0m \u001b[38;5;66;03m# If it's a list or whatever, treat it like a matrix\u001b[39;00m\n\u001b[1;32m    483\u001b[0m other_a \u001b[38;5;241m=\u001b[39m np\u001b[38;5;241m.\u001b[39masanyarray(other)\n",
      "File \u001b[0;32m~/code/miniconda3/envs/qinfo/lib/python3.8/site-packages/qutip/fastsparse.py:171\u001b[0m, in \u001b[0;36mfast_csr_matrix._mul_sparse_matrix\u001b[0;34m(self, other)\u001b[0m\n\u001b[1;32m    169\u001b[0m major_axis \u001b[38;5;241m=\u001b[39m \u001b[38;5;28mself\u001b[39m\u001b[38;5;241m.\u001b[39m_swap((M, N))[\u001b[38;5;241m0\u001b[39m]\n\u001b[1;32m    170\u001b[0m \u001b[38;5;28;01mif\u001b[39;00m \u001b[38;5;28misinstance\u001b[39m(other, fast_csr_matrix):\n\u001b[0;32m--> 171\u001b[0m     A \u001b[38;5;241m=\u001b[39m \u001b[43mzcsr_mult\u001b[49m\u001b[43m(\u001b[49m\u001b[38;5;28;43mself\u001b[39;49m\u001b[43m,\u001b[49m\u001b[43m \u001b[49m\u001b[43mother\u001b[49m\u001b[43m,\u001b[49m\u001b[43m \u001b[49m\u001b[38;5;28;43msorted\u001b[39;49m\u001b[38;5;241;43m=\u001b[39;49m\u001b[38;5;241;43m1\u001b[39;49m\u001b[43m)\u001b[49m\n\u001b[1;32m    172\u001b[0m     \u001b[38;5;28;01mreturn\u001b[39;00m A\n\u001b[1;32m    174\u001b[0m other \u001b[38;5;241m=\u001b[39m csr_matrix(other)  \u001b[38;5;66;03m# convert to this format\u001b[39;00m\n",
      "File \u001b[0;32m~/code/miniconda3/envs/qinfo/lib/python3.8/site-packages/qutip/cy/spmath.pyx:213\u001b[0m, in \u001b[0;36mqutip.cy.spmath.zcsr_mult\u001b[0;34m()\u001b[0m\n",
      "File \u001b[0;32m~/code/miniconda3/envs/qinfo/lib/python3.8/site-packages/qutip/cy/sparse_routines.pxi:316\u001b[0m, in \u001b[0;36mqutip.cy.spmath.CSR_to_scipy\u001b[0;34m()\u001b[0m\n",
      "File \u001b[0;32m~/code/miniconda3/envs/qinfo/lib/python3.8/site-packages/qutip/fastsparse.py:30\u001b[0m, in \u001b[0;36mfast_csr_matrix.__init__\u001b[0;34m(self, args, shape, dtype, copy)\u001b[0m\n\u001b[1;32m     25\u001b[0m \u001b[38;5;28;01mclass\u001b[39;00m \u001b[38;5;21;01mfast_csr_matrix\u001b[39;00m(csr_matrix):\n\u001b[1;32m     26\u001b[0m     \u001b[38;5;124;03m\"\"\"\u001b[39;00m\n\u001b[1;32m     27\u001b[0m \u001b[38;5;124;03m    A subclass of scipy.sparse.csr_matrix that skips the data format\u001b[39;00m\n\u001b[1;32m     28\u001b[0m \u001b[38;5;124;03m    checks that are run everytime a new csr_matrix is created.\u001b[39;00m\n\u001b[1;32m     29\u001b[0m \u001b[38;5;124;03m    \"\"\"\u001b[39;00m\n\u001b[0;32m---> 30\u001b[0m     \u001b[38;5;28;01mdef\u001b[39;00m \u001b[38;5;21m__init__\u001b[39m(\u001b[38;5;28mself\u001b[39m, args\u001b[38;5;241m=\u001b[39m\u001b[38;5;28;01mNone\u001b[39;00m, shape\u001b[38;5;241m=\u001b[39m\u001b[38;5;28;01mNone\u001b[39;00m, dtype\u001b[38;5;241m=\u001b[39m\u001b[38;5;28;01mNone\u001b[39;00m, copy\u001b[38;5;241m=\u001b[39m\u001b[38;5;28;01mFalse\u001b[39;00m):\n\u001b[1;32m     31\u001b[0m         \u001b[38;5;28;01mif\u001b[39;00m args \u001b[38;5;129;01mis\u001b[39;00m \u001b[38;5;28;01mNone\u001b[39;00m: \u001b[38;5;66;03m#Build zero matrix\u001b[39;00m\n\u001b[1;32m     32\u001b[0m             \u001b[38;5;28;01mif\u001b[39;00m shape \u001b[38;5;129;01mis\u001b[39;00m \u001b[38;5;28;01mNone\u001b[39;00m:\n",
      "\u001b[0;31mKeyboardInterrupt\u001b[0m: "
     ]
    }
   ],
   "source": [
    "n3results = defaultdict(list)\n",
    "\n",
    "ns = [2, 3, 4, 5]\n",
    "\n",
    "for n in tqdm(ns):\n",
    "    X = tprod(*[zero_dm for _ in range(n)])\n",
    "    for _ in tqdm(range(20), leave=False):\n",
    "        Ur = qt.rand_unitary(2**n, dims=[[2]*n, [2]*n])\n",
    "        n3results[n].append(qII3(qt.to_super(Ur), X, list(range(n))))\n",
    "    "
   ]
  },
  {
   "cell_type": "code",
   "execution_count": null,
   "id": "537e7a78",
   "metadata": {},
   "outputs": [],
   "source": [
    "color = 'purple'\n",
    "for n in ns:\n",
    "    plt.scatter([n]*len(n3[2]), n3[n], color=color)\n",
    "\n",
    "plt.xticks(ns, fontsize=15)\n",
    "plt.yticks(fontsize=15)\n",
    "plt.ylim(0, None)\n",
    "plt.xlabel(\"Size of system (qubits)\", fontsize=15)\n",
    "plt.ylabel(r\"$\\phi$\", fontsize=20)\n",
    "plt.title(r\"$\\phi_q^{3.0}$ for random unitaries\", fontsize=20)\n",
    "\n",
    "plt.savefig('figures/n3-random-unitaries.pdf')"
   ]
  },
  {
   "cell_type": "markdown",
   "id": "fbe1d576",
   "metadata": {},
   "source": [
    "### qft"
   ]
  },
  {
   "cell_type": "code",
   "execution_count": 99,
   "id": "bf48a6a9",
   "metadata": {},
   "outputs": [],
   "source": [
    "from qutip.qip.algorithms import qft"
   ]
  },
  {
   "cell_type": "code",
   "execution_count": 106,
   "id": "cb799d6d",
   "metadata": {},
   "outputs": [
    {
     "data": {
      "application/vnd.jupyter.widget-view+json": {
       "model_id": "229f3c9b9bfd4c458db39973ec60d9cd",
       "version_major": 2,
       "version_minor": 0
      },
      "text/plain": [
       "  0%|          | 0/4 [00:00<?, ?it/s]"
      ]
     },
     "metadata": {},
     "output_type": "display_data"
    }
   ],
   "source": [
    "ns = [2, 3, 4, 5]\n",
    "\n",
    "nkresults = []\n",
    "nsresults = []\n",
    "ntresults = []\n",
    "nbresults = []\n",
    "for n in tqdm(ns):\n",
    "    X = tprod(*[zero_dm for _ in range(n)])\n",
    "    U = qft.qft(n)\n",
    "    nkresults.append(qIInk(qt.to_super(U), X, list(range(n))))\n",
    "    nsresults.append(qIIns(qt.to_super(U), X, list(range(n))))\n",
    "    ntresults.append(qIInt(qt.to_super(U), X, list(range(n))))\n",
    "    nbresults.append(qIInb(qt.to_super(U), X, list(range(n))))\n",
    "    \n"
   ]
  },
  {
   "cell_type": "code",
   "execution_count": 110,
   "id": "596d5569",
   "metadata": {},
   "outputs": [
    {
     "data": {
      "image/png": "[encoded data removed]",
      "text/plain": [
       "<Figure size 432x288 with 1 Axes>"
      ]
     },
     "metadata": {
      "needs_background": "light"
     },
     "output_type": "display_data"
    }
   ],
   "source": [
    "plt.plot(ns, nkresults, label=r\"$\\phi_q^{nk}$\", color='blue')\n",
    "plt.plot(ns, nsresults, label=r\"$\\phi_q^{ns}$\", color='orange')\n",
    "plt.plot(ns, ntresults, label=r\"$\\phi_q^{nt}$\", color='green')\n",
    "plt.plot(ns, nbresults, label=r\"$\\phi_q^{nb}$\", color='red')\n",
    "\n",
    "plt.xticks(ns, fontsize=15)\n",
    "plt.yticks(fontsize=15)\n",
    "plt.ylim(0, None)\n",
    "plt.xlabel(\"Size of system (qubits)\", fontsize=15)\n",
    "plt.ylabel(r\"$\\phi$\", fontsize=20)\n",
    "plt.title(r\"$\\phi$ measures on QFT\", fontsize=20)\n",
    "\n",
    "plt.legend(loc='upper left', prop={'size':15})\n",
    "plt.tight_layout()\n",
    "plt.savefig('figures/qft-scaling.pdf')"
   ]
  },
  {
   "cell_type": "code",
   "execution_count": 111,
   "id": "64dbd4f2",
   "metadata": {},
   "outputs": [
    {
     "data": {
      "application/vnd.jupyter.widget-view+json": {
       "model_id": "7f8c40248f9741d5a28f3ba63925b665",
       "version_major": 2,
       "version_minor": 0
      },
      "text/plain": [
       "  0%|          | 0/4 [00:00<?, ?it/s]"
      ]
     },
     "metadata": {},
     "output_type": "display_data"
    }
   ],
   "source": [
    "ns = [2, 3, 4, 5]\n",
    "\n",
    "nkresults = []\n",
    "nsresults = []\n",
    "ntresults = []\n",
    "nbresults = []\n",
    "for n in tqdm(ns):\n",
    "    X = tprod(*[plus_dm for _ in range(n)])\n",
    "    U = qft.qft(n)\n",
    "    nkresults.append(qIInk(qt.to_super(U), X, list(range(n))))\n",
    "    nsresults.append(qIIns(qt.to_super(U), X, list(range(n))))\n",
    "    ntresults.append(qIInt(qt.to_super(U), X, list(range(n))))\n",
    "    nbresults.append(qIInb(qt.to_super(U), X, list(range(n))))\n",
    "    \n"
   ]
  },
  {
   "cell_type": "code",
   "execution_count": 113,
   "id": "789c6ea0",
   "metadata": {},
   "outputs": [
    {
     "data": {
      "image/png": "[encoded data removed]",
      "text/plain": [
       "<Figure size 432x288 with 1 Axes>"
      ]
     },
     "metadata": {
      "needs_background": "light"
     },
     "output_type": "display_data"
    }
   ],
   "source": [
    "plt.plot(ns, nkresults, label=r\"$\\phi_q^{nk}$\", color='blue')\n",
    "plt.plot(ns, nsresults, label=r\"$\\phi_q^{ns}$\", color='orange')\n",
    "plt.plot(ns, ntresults, label=r\"$\\phi_q^{nt}$\", color='green')\n",
    "plt.plot(ns, nbresults, label=r\"$\\phi_q^{nb}$\", color='red')\n",
    "\n",
    "plt.xticks(ns, fontsize=15)\n",
    "plt.yticks(fontsize=15)\n",
    "plt.ylim(0, None)\n",
    "plt.xlabel(\"Size of system (qubits)\", fontsize=15)\n",
    "plt.ylabel(r\"$\\phi$\", fontsize=20)\n",
    "plt.title(r\"$\\phi$ measures on QFT\", fontsize=20)\n",
    "\n",
    "plt.legend(loc='upper left', prop={'size':15})\n",
    "plt.tight_layout()\n",
    "plt.savefig('figures/qft-scaling-pluses.pdf')"
   ]
  },
  {
   "cell_type": "code",
   "execution_count": 120,
   "id": "3a0cace5",
   "metadata": {},
   "outputs": [
    {
     "data": {
      "application/vnd.jupyter.widget-view+json": {
       "model_id": "6c68eafd1b1f41c5ac3aeb421f5ceda7",
       "version_major": 2,
       "version_minor": 0
      },
      "text/plain": [
       "  0%|          | 0/4 [00:00<?, ?it/s]"
      ]
     },
     "metadata": {},
     "output_type": "display_data"
    },
    {
     "data": {
      "application/vnd.jupyter.widget-view+json": {
       "model_id": "",
       "version_major": 2,
       "version_minor": 0
      },
      "text/plain": [
       "  0%|          | 0/10 [00:00<?, ?it/s]"
      ]
     },
     "metadata": {},
     "output_type": "display_data"
    },
    {
     "data": {
      "application/vnd.jupyter.widget-view+json": {
       "model_id": "",
       "version_major": 2,
       "version_minor": 0
      },
      "text/plain": [
       "  0%|          | 0/10 [00:00<?, ?it/s]"
      ]
     },
     "metadata": {},
     "output_type": "display_data"
    },
    {
     "data": {
      "application/vnd.jupyter.widget-view+json": {
       "model_id": "",
       "version_major": 2,
       "version_minor": 0
      },
      "text/plain": [
       "  0%|          | 0/10 [00:00<?, ?it/s]"
      ]
     },
     "metadata": {},
     "output_type": "display_data"
    },
    {
     "data": {
      "application/vnd.jupyter.widget-view+json": {
       "model_id": "",
       "version_major": 2,
       "version_minor": 0
      },
      "text/plain": [
       "  0%|          | 0/10 [00:00<?, ?it/s]"
      ]
     },
     "metadata": {},
     "output_type": "display_data"
    }
   ],
   "source": [
    "ns = [2, 3, 4, 5]\n",
    "\n",
    "nkresults = defaultdict(list)\n",
    "nsresults = defaultdict(list)\n",
    "ntresults = defaultdict(list)\n",
    "nbresults = defaultdict(list)\n",
    "for n in tqdm(ns):\n",
    "    for _ in tqdm(range(10), leave=False):\n",
    "#     X = tprod(*[plus_dm for _ in range(n)])\n",
    "        X = qt.rand_dm(2**n, dims=[[2]*n, [2]*n])\n",
    "        U = qft.qft(n)\n",
    "        nkresults[n].append(qIInk(qt.to_super(U), X, list(range(n))))\n",
    "        nsresults[n].append(qIIns(qt.to_super(U), X, list(range(n))))\n",
    "        ntresults[n].append(qIInt(qt.to_super(U), X, list(range(n))))\n",
    "        nbresults[n].append(qIInb(qt.to_super(U), X, list(range(n))))\n",
    "    \n"
   ]
  },
  {
   "cell_type": "code",
   "execution_count": 123,
   "id": "117d50b7",
   "metadata": {},
   "outputs": [
    {
     "data": {
      "image/png": "[encoded data removed]",
      "text/plain": [
       "<Figure size 432x288 with 1 Axes>"
      ]
     },
     "metadata": {
      "needs_background": "light"
     },
     "output_type": "display_data"
    }
   ],
   "source": [
    "\n",
    "plt.scatter([2]*10, nkresults[2], label=r\"$\\phi_q^{nk}$\", color='blue')\n",
    "plt.scatter([2]*10, nsresults[2], label=r\"$\\phi_q^{ns}$\", color='orange')\n",
    "plt.scatter([2]*10, ntresults[2], label=r\"$\\phi_q^{nt}$\", color='green')\n",
    "plt.scatter([2]*10, nbresults[2], label=r\"$\\phi_q^{nb}$\", color='red')\n",
    "\n",
    "plt.scatter([3]*10, nkresults[3], color='blue')\n",
    "plt.scatter([3]*10, nsresults[3], color='orange')\n",
    "plt.scatter([3]*10, ntresults[3], color='green')\n",
    "plt.scatter([3]*10, nbresults[3], color='red')\n",
    "\n",
    "plt.scatter([4]*10, nkresults[4], color='blue')\n",
    "plt.scatter([4]*10, nsresults[4], color='orange')\n",
    "plt.scatter([4]*10, ntresults[4], color='green')\n",
    "plt.scatter([4]*10, nbresults[4], color='red')\n",
    "\n",
    "plt.scatter([5]*10, nkresults[5], color='blue')\n",
    "plt.scatter([5]*10, nsresults[5], color='orange')\n",
    "plt.scatter([5]*10, ntresults[5], color='green')\n",
    "plt.scatter([5]*10, nbresults[5], color='red')\n",
    "\n",
    "\n",
    "plt.xticks(ns, fontsize=15)\n",
    "plt.yticks(fontsize=15)\n",
    "plt.ylim(0, None)\n",
    "plt.xlabel(\"Size of system (qubits)\", fontsize=15)\n",
    "plt.ylabel(r\"$\\phi$\", fontsize=20)\n",
    "plt.title(r\"$\\phi$ measures on QFT (random input $\\rho^{(0)}$)\", fontsize=20)\n",
    "# plt.xlabel(r\"$t$\", fontsize=20)\n",
    "# plt.ylabel(r\"$\\phi$\", fontsize=20)\n",
    "# plt.title(r\"$\\mathcal{E}(\\rho) = e^{itS} \\rho e^{-itS}$\", fontsize=20)\n",
    "# plt.xticks(fontsize=15)\n",
    "# plt.yticks(fontsize=15)\n",
    "\n",
    "plt.legend(loc='upper left', prop={'size':15})\n",
    "plt.tight_layout()\n",
    "plt.savefig('figures/qft-scaling-randomdms.pdf')"
   ]
  },
  {
   "cell_type": "code",
   "execution_count": null,
   "id": "5ebdb8df",
   "metadata": {},
   "outputs": [],
   "source": []
  },
  {
   "cell_type": "code",
   "execution_count": null,
   "id": "3c61a22c",
   "metadata": {},
   "outputs": [],
   "source": []
  },
  {
   "cell_type": "code",
   "execution_count": null,
   "id": "41ebea09",
   "metadata": {},
   "outputs": [],
   "source": []
  },
  {
   "cell_type": "code",
   "execution_count": null,
   "id": "2ac782df",
   "metadata": {},
   "outputs": [],
   "source": []
  },
  {
   "cell_type": "code",
   "execution_count": null,
   "id": "fa25e020",
   "metadata": {},
   "outputs": [],
   "source": []
  },
  {
   "cell_type": "code",
   "execution_count": null,
   "id": "e1fb3388",
   "metadata": {},
   "outputs": [],
   "source": []
  },
  {
   "cell_type": "code",
   "execution_count": null,
   "id": "1d13f74d",
   "metadata": {},
   "outputs": [],
   "source": []
  },
  {
   "cell_type": "code",
   "execution_count": null,
   "id": "5719ac22",
   "metadata": {},
   "outputs": [],
   "source": []
  },
  {
   "cell_type": "code",
   "execution_count": null,
   "id": "4600f7fb",
   "metadata": {},
   "outputs": [],
   "source": []
  },
  {
   "cell_type": "code",
   "execution_count": null,
   "id": "3fe7ccfa",
   "metadata": {},
   "outputs": [],
   "source": []
  }
 ],
 "metadata": {
  "kernelspec": {
   "display_name": "Python 3 (ipykernel)",
   "language": "python",
   "name": "python3"
  },
  "language_info": {
   "codemirror_mode": {
    "name": "ipython",
    "version": 3
   },
   "file_extension": ".py",
   "mimetype": "text/x-python",
   "name": "python",
   "nbconvert_exporter": "python",
   "pygments_lexer": "ipython3",
   "version": "3.8.13"
  }
 },
 "nbformat": 4,
 "nbformat_minor": 5
}
